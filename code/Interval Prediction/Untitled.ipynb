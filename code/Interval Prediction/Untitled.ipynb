{
 "cells": [
  {
   "cell_type": "code",
   "execution_count": null,
   "metadata": {},
   "outputs": [],
   "source": [
    "from keras.models import Sequential\n",
    "from keras.layers import Dense\n",
    "import pandas as pd\n",
    "import numpy as np\n",
    "from sklearn.preprocessing import MinMaxScaler\n",
    "from sklearn.metrics import mean_squared_error\n",
    "import math\n",
    "import matplotlib.pyplot as plt\n",
    "from keras import regularizers\n",
    "from keras.layers import LSTM"
   ]
  },
  {
   "cell_type": "code",
   "execution_count": null,
   "metadata": {},
   "outputs": [],
   "source": [
    "def data_to_x_y(data,n_in_steps,n_out_steps):\n",
    "    X_data,y_data=[],[]\n",
    "    for i in range(0,len(data[0])-n_in_steps-n_out_steps):\n",
    "        X_data.append(data[0][i:i+n_in_steps])\n",
    "        y_data.append(data[0][i+n_in_steps+n_out_steps-1])\n",
    "    X_data=np.array(X_data)\n",
    "    y_data=np.array(y_data)\n",
    "    #X_data=X_data.reshape(X_train.shape[0],X_train.shape[1],1)\n",
    "    #y_data=y_data.reshape(y_train.shape[0],1)\n",
    "    return X_data,y_data\n",
    "\n",
    "def train_test_split(X_data,y_data,train_percentage):\n",
    "    n_train_intervals = math.ceil(X_data.shape[0] * train_percentage) \n",
    "    X_train,y_train=X_data[:n_train_intervals],y_data[:n_train_intervals]\n",
    "    X_test,y_test=X_data[n_train_intervals:],y_data[n_train_intervals:]\n",
    "    return X_train,y_train,X_test,y_test"
   ]
  },
  {
   "cell_type": "code",
   "execution_count": null,
   "metadata": {},
   "outputs": [],
   "source": [
    "stock_dir='../../dataset/'\n",
    "df=pd.read_csv(open(stock_dir),header=0)\n",
    "df=df['Close']"
   ]
  }
 ],
 "metadata": {
  "kernelspec": {
   "display_name": "Python 3",
   "language": "python",
   "name": "python3"
  },
  "language_info": {
   "codemirror_mode": {
    "name": "ipython",
    "version": 3
   },
   "file_extension": ".py",
   "mimetype": "text/x-python",
   "name": "python",
   "nbconvert_exporter": "python",
   "pygments_lexer": "ipython3",
   "version": "3.6.4"
  }
 },
 "nbformat": 4,
 "nbformat_minor": 2
}
