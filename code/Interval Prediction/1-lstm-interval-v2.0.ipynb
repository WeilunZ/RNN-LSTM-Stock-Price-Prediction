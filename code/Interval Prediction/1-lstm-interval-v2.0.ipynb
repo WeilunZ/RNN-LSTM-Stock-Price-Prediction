{
 "cells": [
  {
   "cell_type": "code",
   "execution_count": 91,
   "metadata": {},
   "outputs": [],
   "source": [
    "import tensorflow as tf\n",
    "import numpy as np\n",
    "import matplotlib.pyplot as plt\n",
    "import seaborn as sns\n",
    "import pandas as pd\n",
    "from sklearn.preprocessing import MinMaxScaler\n",
    "from datetime import datetime\n",
    "from datetime import timedelta\n",
    "import math\n",
    "sns.set()"
   ]
  },
  {
   "cell_type": "code",
   "execution_count": 92,
   "metadata": {},
   "outputs": [],
   "source": [
    "stock_name='GOOGL'"
   ]
  },
  {
   "cell_type": "code",
   "execution_count": 93,
   "metadata": {
    "scrolled": true
   },
   "outputs": [
    {
     "data": {
      "text/html": [
       "<div>\n",
       "<style scoped>\n",
       "    .dataframe tbody tr th:only-of-type {\n",
       "        vertical-align: middle;\n",
       "    }\n",
       "\n",
       "    .dataframe tbody tr th {\n",
       "        vertical-align: top;\n",
       "    }\n",
       "\n",
       "    .dataframe thead th {\n",
       "        text-align: right;\n",
       "    }\n",
       "</style>\n",
       "<table border=\"1\" class=\"dataframe\">\n",
       "  <thead>\n",
       "    <tr style=\"text-align: right;\">\n",
       "      <th></th>\n",
       "      <th>Date</th>\n",
       "      <th>Open</th>\n",
       "      <th>High</th>\n",
       "      <th>Low</th>\n",
       "      <th>Close</th>\n",
       "      <th>Adj Close</th>\n",
       "      <th>Volume</th>\n",
       "    </tr>\n",
       "  </thead>\n",
       "  <tbody>\n",
       "    <tr>\n",
       "      <th>0</th>\n",
       "      <td>2014-05-27</td>\n",
       "      <td>567.780029</td>\n",
       "      <td>574.869995</td>\n",
       "      <td>564.150024</td>\n",
       "      <td>574.869995</td>\n",
       "      <td>574.869995</td>\n",
       "      <td>2185800</td>\n",
       "    </tr>\n",
       "    <tr>\n",
       "      <th>1</th>\n",
       "      <td>2014-05-28</td>\n",
       "      <td>574.570007</td>\n",
       "      <td>577.659973</td>\n",
       "      <td>569.950012</td>\n",
       "      <td>570.450012</td>\n",
       "      <td>570.450012</td>\n",
       "      <td>1581600</td>\n",
       "    </tr>\n",
       "    <tr>\n",
       "      <th>2</th>\n",
       "      <td>2014-05-29</td>\n",
       "      <td>573.390015</td>\n",
       "      <td>573.479980</td>\n",
       "      <td>568.450012</td>\n",
       "      <td>570.559998</td>\n",
       "      <td>570.559998</td>\n",
       "      <td>1411100</td>\n",
       "    </tr>\n",
       "    <tr>\n",
       "      <th>3</th>\n",
       "      <td>2014-05-30</td>\n",
       "      <td>571.640015</td>\n",
       "      <td>572.580017</td>\n",
       "      <td>565.789978</td>\n",
       "      <td>571.650024</td>\n",
       "      <td>571.650024</td>\n",
       "      <td>1871700</td>\n",
       "    </tr>\n",
       "    <tr>\n",
       "      <th>4</th>\n",
       "      <td>2014-06-02</td>\n",
       "      <td>569.750000</td>\n",
       "      <td>570.409973</td>\n",
       "      <td>556.700012</td>\n",
       "      <td>564.340027</td>\n",
       "      <td>564.340027</td>\n",
       "      <td>1660500</td>\n",
       "    </tr>\n",
       "  </tbody>\n",
       "</table>\n",
       "</div>"
      ],
      "text/plain": [
       "         Date        Open        High         Low       Close   Adj Close  \\\n",
       "0  2014-05-27  567.780029  574.869995  564.150024  574.869995  574.869995   \n",
       "1  2014-05-28  574.570007  577.659973  569.950012  570.450012  570.450012   \n",
       "2  2014-05-29  573.390015  573.479980  568.450012  570.559998  570.559998   \n",
       "3  2014-05-30  571.640015  572.580017  565.789978  571.650024  571.650024   \n",
       "4  2014-06-02  569.750000  570.409973  556.700012  564.340027  564.340027   \n",
       "\n",
       "    Volume  \n",
       "0  2185800  \n",
       "1  1581600  \n",
       "2  1411100  \n",
       "3  1871700  \n",
       "4  1660500  "
      ]
     },
     "execution_count": 93,
     "metadata": {},
     "output_type": "execute_result"
    }
   ],
   "source": [
    "df = pd.read_csv('../../dataset/5year/'+stock_name+'-5year.csv')\n",
    "date_ori = pd.to_datetime(df.iloc[:, 0]).tolist()\n",
    "df.head()"
   ]
  },
  {
   "cell_type": "code",
   "execution_count": 94,
   "metadata": {},
   "outputs": [],
   "source": [
    "data=df.iloc[:,1:6].values"
   ]
  },
  {
   "cell_type": "code",
   "execution_count": 95,
   "metadata": {},
   "outputs": [],
   "source": [
    "#定义常量\n",
    "rnn_unit=10       #hidden layer units\n",
    "input_size=5      \n",
    "output_size=1\n",
    "lr=0.002         #学习率"
   ]
  },
  {
   "cell_type": "code",
   "execution_count": 96,
   "metadata": {},
   "outputs": [],
   "source": [
    "tf.reset_default_graph()\n",
    "#输入层、输出层权重、偏置\n",
    "weights={\n",
    "         'in':tf.Variable(tf.random_normal([input_size,rnn_unit])),\n",
    "         'out':tf.Variable(tf.random_normal([rnn_unit,1]))\n",
    "         }\n",
    "biases={\n",
    "        'in':tf.Variable(tf.constant(0.1,shape=[rnn_unit,])),\n",
    "        'out':tf.Variable(tf.constant(0.1,shape=[1,]))\n",
    "        }"
   ]
  },
  {
   "cell_type": "code",
   "execution_count": 97,
   "metadata": {},
   "outputs": [],
   "source": [
    "def get_data(batch_size=32,time_step=20,future_day=10,train_percentage=0.7):\n",
    "    batch_index=[]\n",
    "    train_begin=0\n",
    "    train_end=math.ceil(data.shape[0]*train_percentage)\n",
    "    scaler_for_x=MinMaxScaler(feature_range=(0,1))  #按列做minmax缩放\n",
    "    scaler_for_y=MinMaxScaler(feature_range=(0,1))\n",
    "    scaled_x_data=scaler_for_x.fit_transform(data[:,:])\n",
    "    scaled_y_data=scaler_for_y.fit_transform(data[:,3].reshape(-1,1))\n",
    "    \n",
    "    label_train = scaled_y_data[train_begin:train_end]\n",
    "    label_test = scaled_y_data[train_end:]\n",
    "    normalized_train_data = scaled_x_data[train_begin:train_end]\n",
    "    normalized_test_data = scaled_x_data[train_end:]\n",
    "    \n",
    "    train_x,train_y=[],[]   #训练集x和y初定义\n",
    "    for i in range(len(normalized_train_data)-time_step-future_day):\n",
    "        if i % batch_size==0:\n",
    "            batch_index.append(i)\n",
    "        x=normalized_train_data[i:i+time_step,:]\n",
    "        y=label_train[i+time_step+future_day-1,np.newaxis]\n",
    "        if i==1:\n",
    "            print(\"x.shape:\",x.shape,\"y.shape:\",y.shape)\n",
    "        train_x.append(x.tolist())\n",
    "        train_y.append(y.tolist())\n",
    "    batch_index.append((len(normalized_train_data)-time_step-future_day))\n",
    "    \n",
    "    size=len(normalized_test_data)-time_step-future_day\n",
    "    test_x,test_y=[],[]  \n",
    "    for i in range(size):\n",
    "        x=normalized_test_data[i:i+time_step,:]\n",
    "        y=label_test[i+time_step+future_day-1]\n",
    "        test_x.append(x.tolist())\n",
    "        test_y.extend(y)\n",
    "#     test_x.append((normalized_test_data[(i+1)*time_step:,:4]).tolist())\n",
    "#     test_y.extend((label_test[(i+1)*time_step:]).tolist())    \n",
    "    \n",
    "    return batch_index,train_x,train_y,test_x,test_y,scaler_for_y"
   ]
  },
  {
   "cell_type": "code",
   "execution_count": 98,
   "metadata": {},
   "outputs": [],
   "source": [
    "#——————————————————定义神经网络变量——————————————————\n",
    "def lstm(X):     \n",
    "    batch_size=tf.shape(X)[0]\n",
    "    time_step=tf.shape(X)[1]\n",
    "    w_in=weights['in']\n",
    "    b_in=biases['in']  \n",
    "    input=tf.reshape(X,[-1,input_size])  #需要将tensor转成2维进行计算，计算后的结果作为隐藏层的输入\n",
    "    input_rnn=tf.matmul(input,w_in)+b_in\n",
    "    input_rnn=tf.reshape(input_rnn,[-1,time_step,rnn_unit])  #将tensor转成3维，作为lstm cell的输入\n",
    "    cell=tf.nn.rnn_cell.BasicLSTMCell(rnn_unit)\n",
    "    \n",
    "    init_state=cell.zero_state(batch_size,dtype=tf.float32)\n",
    "    output_rnn,final_states=tf.nn.dynamic_rnn(cell, input_rnn,initial_state=init_state, dtype=tf.float32)  #output_rnn是记录lstm每个输出节点的结果，final_states是最后一个cell的结果\n",
    "    output=tf.reshape(output_rnn,[-1,rnn_unit]) #作为输出层的输入\n",
    "    w_out=weights['out']\n",
    "    b_out=biases['out']\n",
    "    pred=tf.matmul(output,w_out)+b_out\n",
    "    print(\"此处可运行\")\n",
    "    return pred,final_states"
   ]
  },
  {
   "cell_type": "code",
   "execution_count": 99,
   "metadata": {},
   "outputs": [],
   "source": [
    "#——————————————————训练模型——————————————————\n",
    "def train_lstm(batch_size=32,time_step=20,future_day=10,train_percentage=0.7):\n",
    "    X=tf.placeholder(tf.float32, shape=[None,time_step,input_size])\n",
    "    Y=tf.placeholder(tf.float32, shape=[None,1,output_size])\n",
    "    batch_index,train_x,train_y,test_x,test_y,scaler_for_y = get_data(batch_size,time_step,future_day,train_percentage)\n",
    "    pred,_=lstm(X)\n",
    "    #损失函数\n",
    "    loss=tf.reduce_mean(tf.square(tf.reshape(pred,[-1])-tf.reshape(Y, [-1])))\n",
    "    train_op=tf.train.AdamOptimizer(lr).minimize(loss)  \n",
    "    with tf.Session() as sess:\n",
    "        sess.run(tf.global_variables_initializer())\n",
    "        #重复训练5000次\n",
    "        iter_time = 50\n",
    "        for i in range(iter_time):\n",
    "            for step in range(len(batch_index)-1):\n",
    "                _,loss_=sess.run([train_op,loss],feed_dict={X:train_x[batch_index[step]:batch_index[step+1]],Y:train_y[batch_index[step]:batch_index[step+1]]})\n",
    "            if i % 10 == 0:    \n",
    "                print('iter:',i,'loss:',loss_)\n",
    "        ####predict####\n",
    "        test_predict=[]\n",
    "        for step in range(len(test_x)):\n",
    "            prob=sess.run(pred,feed_dict={X:[test_x[step]]})   \n",
    "            predict=prob.reshape((-1))\n",
    "            test_predict.extend(predict)\n",
    "            \n",
    "        test_predict = scaler_for_y.inverse_transform(test_predict)\n",
    "        test_y = scaler_for_y.inverse_transform(test_y)\n",
    "        rmse=np.sqrt(mean_squared_error(test_predict,test_y))\n",
    "        mae = mean_absolute_error(y_pred=test_predict,y_true=test_y)\n",
    "        print ('mae:',mae,'   rmse:',rmse)\n",
    "    return test_predict"
   ]
  },
  {
   "cell_type": "code",
   "execution_count": 100,
   "metadata": {},
   "outputs": [
    {
     "name": "stdout",
     "output_type": "stream",
     "text": [
      "x.shape: (20, 5) y.shape: (1, 1)\n",
      "此处可运行\n"
     ]
    },
    {
     "ename": "InvalidArgumentError",
     "evalue": "Incompatible shapes: [640] vs. [32]\n\t [[node gradients/sub_grad/BroadcastGradientArgs (defined at <ipython-input-99-0449915ea09e>:9)  = BroadcastGradientArgs[T=DT_INT32, _device=\"/job:localhost/replica:0/task:0/device:CPU:0\"](gradients/sub_grad/Shape, gradients/sub_grad/Shape_1)]]\n\nCaused by op 'gradients/sub_grad/BroadcastGradientArgs', defined at:\n  File \"D:\\Programming_Software\\Anaconda\\anaconda\\lib\\runpy.py\", line 193, in _run_module_as_main\n    \"__main__\", mod_spec)\n  File \"D:\\Programming_Software\\Anaconda\\anaconda\\lib\\runpy.py\", line 85, in _run_code\n    exec(code, run_globals)\n  File \"D:\\Programming_Software\\Anaconda\\anaconda\\lib\\site-packages\\ipykernel_launcher.py\", line 16, in <module>\n    app.launch_new_instance()\n  File \"D:\\Programming_Software\\Anaconda\\anaconda\\lib\\site-packages\\traitlets\\config\\application.py\", line 658, in launch_instance\n    app.start()\n  File \"D:\\Programming_Software\\Anaconda\\anaconda\\lib\\site-packages\\ipykernel\\kernelapp.py\", line 505, in start\n    self.io_loop.start()\n  File \"D:\\Programming_Software\\Anaconda\\anaconda\\lib\\site-packages\\tornado\\platform\\asyncio.py\", line 132, in start\n    self.asyncio_loop.run_forever()\n  File \"D:\\Programming_Software\\Anaconda\\anaconda\\lib\\asyncio\\base_events.py\", line 438, in run_forever\n    self._run_once()\n  File \"D:\\Programming_Software\\Anaconda\\anaconda\\lib\\asyncio\\base_events.py\", line 1451, in _run_once\n    handle._run()\n  File \"D:\\Programming_Software\\Anaconda\\anaconda\\lib\\asyncio\\events.py\", line 145, in _run\n    self._callback(*self._args)\n  File \"D:\\Programming_Software\\Anaconda\\anaconda\\lib\\site-packages\\tornado\\ioloop.py\", line 758, in _run_callback\n    ret = callback()\n  File \"D:\\Programming_Software\\Anaconda\\anaconda\\lib\\site-packages\\tornado\\stack_context.py\", line 300, in null_wrapper\n    return fn(*args, **kwargs)\n  File \"D:\\Programming_Software\\Anaconda\\anaconda\\lib\\site-packages\\tornado\\gen.py\", line 1233, in inner\n    self.run()\n  File \"D:\\Programming_Software\\Anaconda\\anaconda\\lib\\site-packages\\tornado\\gen.py\", line 1147, in run\n    yielded = self.gen.send(value)\n  File \"D:\\Programming_Software\\Anaconda\\anaconda\\lib\\site-packages\\ipykernel\\kernelbase.py\", line 370, in dispatch_queue\n    yield self.process_one()\n  File \"D:\\Programming_Software\\Anaconda\\anaconda\\lib\\site-packages\\tornado\\gen.py\", line 346, in wrapper\n    runner = Runner(result, future, yielded)\n  File \"D:\\Programming_Software\\Anaconda\\anaconda\\lib\\site-packages\\tornado\\gen.py\", line 1080, in __init__\n    self.run()\n  File \"D:\\Programming_Software\\Anaconda\\anaconda\\lib\\site-packages\\tornado\\gen.py\", line 1147, in run\n    yielded = self.gen.send(value)\n  File \"D:\\Programming_Software\\Anaconda\\anaconda\\lib\\site-packages\\ipykernel\\kernelbase.py\", line 357, in process_one\n    yield gen.maybe_future(dispatch(*args))\n  File \"D:\\Programming_Software\\Anaconda\\anaconda\\lib\\site-packages\\tornado\\gen.py\", line 326, in wrapper\n    yielded = next(result)\n  File \"D:\\Programming_Software\\Anaconda\\anaconda\\lib\\site-packages\\ipykernel\\kernelbase.py\", line 267, in dispatch_shell\n    yield gen.maybe_future(handler(stream, idents, msg))\n  File \"D:\\Programming_Software\\Anaconda\\anaconda\\lib\\site-packages\\tornado\\gen.py\", line 326, in wrapper\n    yielded = next(result)\n  File \"D:\\Programming_Software\\Anaconda\\anaconda\\lib\\site-packages\\ipykernel\\kernelbase.py\", line 534, in execute_request\n    user_expressions, allow_stdin,\n  File \"D:\\Programming_Software\\Anaconda\\anaconda\\lib\\site-packages\\tornado\\gen.py\", line 326, in wrapper\n    yielded = next(result)\n  File \"D:\\Programming_Software\\Anaconda\\anaconda\\lib\\site-packages\\ipykernel\\ipkernel.py\", line 294, in do_execute\n    res = shell.run_cell(code, store_history=store_history, silent=silent)\n  File \"D:\\Programming_Software\\Anaconda\\anaconda\\lib\\site-packages\\ipykernel\\zmqshell.py\", line 536, in run_cell\n    return super(ZMQInteractiveShell, self).run_cell(*args, **kwargs)\n  File \"D:\\Programming_Software\\Anaconda\\anaconda\\lib\\site-packages\\IPython\\core\\interactiveshell.py\", line 2819, in run_cell\n    raw_cell, store_history, silent, shell_futures)\n  File \"D:\\Programming_Software\\Anaconda\\anaconda\\lib\\site-packages\\IPython\\core\\interactiveshell.py\", line 2845, in _run_cell\n    return runner(coro)\n  File \"D:\\Programming_Software\\Anaconda\\anaconda\\lib\\site-packages\\IPython\\core\\async_helpers.py\", line 67, in _pseudo_sync_runner\n    coro.send(None)\n  File \"D:\\Programming_Software\\Anaconda\\anaconda\\lib\\site-packages\\IPython\\core\\interactiveshell.py\", line 3020, in run_cell_async\n    interactivity=interactivity, compiler=compiler, result=result)\n  File \"D:\\Programming_Software\\Anaconda\\anaconda\\lib\\site-packages\\IPython\\core\\interactiveshell.py\", line 3185, in run_ast_nodes\n    if (yield from self.run_code(code, result)):\n  File \"D:\\Programming_Software\\Anaconda\\anaconda\\lib\\site-packages\\IPython\\core\\interactiveshell.py\", line 3267, in run_code\n    exec(code_obj, self.user_global_ns, self.user_ns)\n  File \"<ipython-input-100-36da1b08c0b1>\", line 1, in <module>\n    test_predict = train_lstm(batch_size=32,time_step=20,future_day=10,train_percentage=0.7)\n  File \"<ipython-input-99-0449915ea09e>\", line 9, in train_lstm\n    train_op=tf.train.AdamOptimizer(lr).minimize(loss)\n  File \"D:\\Programming_Software\\Anaconda\\anaconda\\lib\\site-packages\\tensorflow\\python\\training\\optimizer.py\", line 400, in minimize\n    grad_loss=grad_loss)\n  File \"D:\\Programming_Software\\Anaconda\\anaconda\\lib\\site-packages\\tensorflow\\python\\training\\optimizer.py\", line 519, in compute_gradients\n    colocate_gradients_with_ops=colocate_gradients_with_ops)\n  File \"D:\\Programming_Software\\Anaconda\\anaconda\\lib\\site-packages\\tensorflow\\python\\ops\\gradients_impl.py\", line 630, in gradients\n    gate_gradients, aggregation_method, stop_gradients)\n  File \"D:\\Programming_Software\\Anaconda\\anaconda\\lib\\site-packages\\tensorflow\\python\\ops\\gradients_impl.py\", line 814, in _GradientsHelper\n    lambda: grad_fn(op, *out_grads))\n  File \"D:\\Programming_Software\\Anaconda\\anaconda\\lib\\site-packages\\tensorflow\\python\\ops\\gradients_impl.py\", line 408, in _MaybeCompile\n    return grad_fn()  # Exit early\n  File \"D:\\Programming_Software\\Anaconda\\anaconda\\lib\\site-packages\\tensorflow\\python\\ops\\gradients_impl.py\", line 814, in <lambda>\n    lambda: grad_fn(op, *out_grads))\n  File \"D:\\Programming_Software\\Anaconda\\anaconda\\lib\\site-packages\\tensorflow\\python\\ops\\math_grad.py\", line 923, in _SubGrad\n    rx, ry = gen_array_ops.broadcast_gradient_args(sx, sy)\n  File \"D:\\Programming_Software\\Anaconda\\anaconda\\lib\\site-packages\\tensorflow\\python\\ops\\gen_array_ops.py\", line 675, in broadcast_gradient_args\n    \"BroadcastGradientArgs\", s0=s0, s1=s1, name=name)\n  File \"D:\\Programming_Software\\Anaconda\\anaconda\\lib\\site-packages\\tensorflow\\python\\framework\\op_def_library.py\", line 787, in _apply_op_helper\n    op_def=op_def)\n  File \"D:\\Programming_Software\\Anaconda\\anaconda\\lib\\site-packages\\tensorflow\\python\\util\\deprecation.py\", line 488, in new_func\n    return func(*args, **kwargs)\n  File \"D:\\Programming_Software\\Anaconda\\anaconda\\lib\\site-packages\\tensorflow\\python\\framework\\ops.py\", line 3274, in create_op\n    op_def=op_def)\n  File \"D:\\Programming_Software\\Anaconda\\anaconda\\lib\\site-packages\\tensorflow\\python\\framework\\ops.py\", line 1770, in __init__\n    self._traceback = tf_stack.extract_stack()\n\n...which was originally created as op 'sub', defined at:\n  File \"D:\\Programming_Software\\Anaconda\\anaconda\\lib\\runpy.py\", line 193, in _run_module_as_main\n    \"__main__\", mod_spec)\n[elided 30 identical lines from previous traceback]\n  File \"<ipython-input-100-36da1b08c0b1>\", line 1, in <module>\n    test_predict = train_lstm(batch_size=32,time_step=20,future_day=10,train_percentage=0.7)\n  File \"<ipython-input-99-0449915ea09e>\", line 8, in train_lstm\n    loss=tf.reduce_mean(tf.square(tf.reshape(pred,[-1])-tf.reshape(Y, [-1])))\n  File \"D:\\Programming_Software\\Anaconda\\anaconda\\lib\\site-packages\\tensorflow\\python\\ops\\math_ops.py\", line 866, in binary_op_wrapper\n    return func(x, y, name=name)\n  File \"D:\\Programming_Software\\Anaconda\\anaconda\\lib\\site-packages\\tensorflow\\python\\ops\\gen_math_ops.py\", line 8317, in sub\n    \"Sub\", x=x, y=y, name=name)\n  File \"D:\\Programming_Software\\Anaconda\\anaconda\\lib\\site-packages\\tensorflow\\python\\framework\\op_def_library.py\", line 787, in _apply_op_helper\n    op_def=op_def)\n  File \"D:\\Programming_Software\\Anaconda\\anaconda\\lib\\site-packages\\tensorflow\\python\\util\\deprecation.py\", line 488, in new_func\n    return func(*args, **kwargs)\n  File \"D:\\Programming_Software\\Anaconda\\anaconda\\lib\\site-packages\\tensorflow\\python\\framework\\ops.py\", line 3274, in create_op\n    op_def=op_def)\n  File \"D:\\Programming_Software\\Anaconda\\anaconda\\lib\\site-packages\\tensorflow\\python\\framework\\ops.py\", line 1770, in __init__\n    self._traceback = tf_stack.extract_stack()\n\nInvalidArgumentError (see above for traceback): Incompatible shapes: [640] vs. [32]\n\t [[node gradients/sub_grad/BroadcastGradientArgs (defined at <ipython-input-99-0449915ea09e>:9)  = BroadcastGradientArgs[T=DT_INT32, _device=\"/job:localhost/replica:0/task:0/device:CPU:0\"](gradients/sub_grad/Shape, gradients/sub_grad/Shape_1)]]\n",
     "output_type": "error",
     "traceback": [
      "\u001b[1;31m---------------------------------------------------------------------------\u001b[0m",
      "\u001b[1;31mInvalidArgumentError\u001b[0m                      Traceback (most recent call last)",
      "\u001b[1;32mD:\\Programming_Software\\Anaconda\\anaconda\\lib\\site-packages\\tensorflow\\python\\client\\session.py\u001b[0m in \u001b[0;36m_do_call\u001b[1;34m(self, fn, *args)\u001b[0m\n\u001b[0;32m   1333\u001b[0m     \u001b[1;32mtry\u001b[0m\u001b[1;33m:\u001b[0m\u001b[1;33m\u001b[0m\u001b[1;33m\u001b[0m\u001b[0m\n\u001b[1;32m-> 1334\u001b[1;33m       \u001b[1;32mreturn\u001b[0m \u001b[0mfn\u001b[0m\u001b[1;33m(\u001b[0m\u001b[1;33m*\u001b[0m\u001b[0margs\u001b[0m\u001b[1;33m)\u001b[0m\u001b[1;33m\u001b[0m\u001b[1;33m\u001b[0m\u001b[0m\n\u001b[0m\u001b[0;32m   1335\u001b[0m     \u001b[1;32mexcept\u001b[0m \u001b[0merrors\u001b[0m\u001b[1;33m.\u001b[0m\u001b[0mOpError\u001b[0m \u001b[1;32mas\u001b[0m \u001b[0me\u001b[0m\u001b[1;33m:\u001b[0m\u001b[1;33m\u001b[0m\u001b[1;33m\u001b[0m\u001b[0m\n",
      "\u001b[1;32mD:\\Programming_Software\\Anaconda\\anaconda\\lib\\site-packages\\tensorflow\\python\\client\\session.py\u001b[0m in \u001b[0;36m_run_fn\u001b[1;34m(feed_dict, fetch_list, target_list, options, run_metadata)\u001b[0m\n\u001b[0;32m   1318\u001b[0m       return self._call_tf_sessionrun(\n\u001b[1;32m-> 1319\u001b[1;33m           options, feed_dict, fetch_list, target_list, run_metadata)\n\u001b[0m\u001b[0;32m   1320\u001b[0m \u001b[1;33m\u001b[0m\u001b[0m\n",
      "\u001b[1;32mD:\\Programming_Software\\Anaconda\\anaconda\\lib\\site-packages\\tensorflow\\python\\client\\session.py\u001b[0m in \u001b[0;36m_call_tf_sessionrun\u001b[1;34m(self, options, feed_dict, fetch_list, target_list, run_metadata)\u001b[0m\n\u001b[0;32m   1406\u001b[0m         \u001b[0mself\u001b[0m\u001b[1;33m.\u001b[0m\u001b[0m_session\u001b[0m\u001b[1;33m,\u001b[0m \u001b[0moptions\u001b[0m\u001b[1;33m,\u001b[0m \u001b[0mfeed_dict\u001b[0m\u001b[1;33m,\u001b[0m \u001b[0mfetch_list\u001b[0m\u001b[1;33m,\u001b[0m \u001b[0mtarget_list\u001b[0m\u001b[1;33m,\u001b[0m\u001b[1;33m\u001b[0m\u001b[1;33m\u001b[0m\u001b[0m\n\u001b[1;32m-> 1407\u001b[1;33m         run_metadata)\n\u001b[0m\u001b[0;32m   1408\u001b[0m \u001b[1;33m\u001b[0m\u001b[0m\n",
      "\u001b[1;31mInvalidArgumentError\u001b[0m: Incompatible shapes: [640] vs. [32]\n\t [[{{node gradients/sub_grad/BroadcastGradientArgs}} = BroadcastGradientArgs[T=DT_INT32, _device=\"/job:localhost/replica:0/task:0/device:CPU:0\"](gradients/sub_grad/Shape, gradients/sub_grad/Shape_1)]]",
      "\nDuring handling of the above exception, another exception occurred:\n",
      "\u001b[1;31mInvalidArgumentError\u001b[0m                      Traceback (most recent call last)",
      "\u001b[1;32m<ipython-input-100-36da1b08c0b1>\u001b[0m in \u001b[0;36m<module>\u001b[1;34m\u001b[0m\n\u001b[1;32m----> 1\u001b[1;33m \u001b[0mtest_predict\u001b[0m \u001b[1;33m=\u001b[0m \u001b[0mtrain_lstm\u001b[0m\u001b[1;33m(\u001b[0m\u001b[0mbatch_size\u001b[0m\u001b[1;33m=\u001b[0m\u001b[1;36m32\u001b[0m\u001b[1;33m,\u001b[0m\u001b[0mtime_step\u001b[0m\u001b[1;33m=\u001b[0m\u001b[1;36m20\u001b[0m\u001b[1;33m,\u001b[0m\u001b[0mfuture_day\u001b[0m\u001b[1;33m=\u001b[0m\u001b[1;36m10\u001b[0m\u001b[1;33m,\u001b[0m\u001b[0mtrain_percentage\u001b[0m\u001b[1;33m=\u001b[0m\u001b[1;36m0.7\u001b[0m\u001b[1;33m)\u001b[0m\u001b[1;33m\u001b[0m\u001b[1;33m\u001b[0m\u001b[0m\n\u001b[0m",
      "\u001b[1;32m<ipython-input-99-0449915ea09e>\u001b[0m in \u001b[0;36mtrain_lstm\u001b[1;34m(batch_size, time_step, future_day, train_percentage)\u001b[0m\n\u001b[0;32m     14\u001b[0m         \u001b[1;32mfor\u001b[0m \u001b[0mi\u001b[0m \u001b[1;32min\u001b[0m \u001b[0mrange\u001b[0m\u001b[1;33m(\u001b[0m\u001b[0miter_time\u001b[0m\u001b[1;33m)\u001b[0m\u001b[1;33m:\u001b[0m\u001b[1;33m\u001b[0m\u001b[1;33m\u001b[0m\u001b[0m\n\u001b[0;32m     15\u001b[0m             \u001b[1;32mfor\u001b[0m \u001b[0mstep\u001b[0m \u001b[1;32min\u001b[0m \u001b[0mrange\u001b[0m\u001b[1;33m(\u001b[0m\u001b[0mlen\u001b[0m\u001b[1;33m(\u001b[0m\u001b[0mbatch_index\u001b[0m\u001b[1;33m)\u001b[0m\u001b[1;33m-\u001b[0m\u001b[1;36m1\u001b[0m\u001b[1;33m)\u001b[0m\u001b[1;33m:\u001b[0m\u001b[1;33m\u001b[0m\u001b[1;33m\u001b[0m\u001b[0m\n\u001b[1;32m---> 16\u001b[1;33m                 \u001b[0m_\u001b[0m\u001b[1;33m,\u001b[0m\u001b[0mloss_\u001b[0m\u001b[1;33m=\u001b[0m\u001b[0msess\u001b[0m\u001b[1;33m.\u001b[0m\u001b[0mrun\u001b[0m\u001b[1;33m(\u001b[0m\u001b[1;33m[\u001b[0m\u001b[0mtrain_op\u001b[0m\u001b[1;33m,\u001b[0m\u001b[0mloss\u001b[0m\u001b[1;33m]\u001b[0m\u001b[1;33m,\u001b[0m\u001b[0mfeed_dict\u001b[0m\u001b[1;33m=\u001b[0m\u001b[1;33m{\u001b[0m\u001b[0mX\u001b[0m\u001b[1;33m:\u001b[0m\u001b[0mtrain_x\u001b[0m\u001b[1;33m[\u001b[0m\u001b[0mbatch_index\u001b[0m\u001b[1;33m[\u001b[0m\u001b[0mstep\u001b[0m\u001b[1;33m]\u001b[0m\u001b[1;33m:\u001b[0m\u001b[0mbatch_index\u001b[0m\u001b[1;33m[\u001b[0m\u001b[0mstep\u001b[0m\u001b[1;33m+\u001b[0m\u001b[1;36m1\u001b[0m\u001b[1;33m]\u001b[0m\u001b[1;33m]\u001b[0m\u001b[1;33m,\u001b[0m\u001b[0mY\u001b[0m\u001b[1;33m:\u001b[0m\u001b[0mtrain_y\u001b[0m\u001b[1;33m[\u001b[0m\u001b[0mbatch_index\u001b[0m\u001b[1;33m[\u001b[0m\u001b[0mstep\u001b[0m\u001b[1;33m]\u001b[0m\u001b[1;33m:\u001b[0m\u001b[0mbatch_index\u001b[0m\u001b[1;33m[\u001b[0m\u001b[0mstep\u001b[0m\u001b[1;33m+\u001b[0m\u001b[1;36m1\u001b[0m\u001b[1;33m]\u001b[0m\u001b[1;33m]\u001b[0m\u001b[1;33m}\u001b[0m\u001b[1;33m)\u001b[0m\u001b[1;33m\u001b[0m\u001b[1;33m\u001b[0m\u001b[0m\n\u001b[0m\u001b[0;32m     17\u001b[0m             \u001b[1;32mif\u001b[0m \u001b[0mi\u001b[0m \u001b[1;33m%\u001b[0m \u001b[1;36m10\u001b[0m \u001b[1;33m==\u001b[0m \u001b[1;36m0\u001b[0m\u001b[1;33m:\u001b[0m\u001b[1;33m\u001b[0m\u001b[1;33m\u001b[0m\u001b[0m\n\u001b[0;32m     18\u001b[0m                 \u001b[0mprint\u001b[0m\u001b[1;33m(\u001b[0m\u001b[1;34m'iter:'\u001b[0m\u001b[1;33m,\u001b[0m\u001b[0mi\u001b[0m\u001b[1;33m,\u001b[0m\u001b[1;34m'loss:'\u001b[0m\u001b[1;33m,\u001b[0m\u001b[0mloss_\u001b[0m\u001b[1;33m)\u001b[0m\u001b[1;33m\u001b[0m\u001b[1;33m\u001b[0m\u001b[0m\n",
      "\u001b[1;32mD:\\Programming_Software\\Anaconda\\anaconda\\lib\\site-packages\\tensorflow\\python\\client\\session.py\u001b[0m in \u001b[0;36mrun\u001b[1;34m(self, fetches, feed_dict, options, run_metadata)\u001b[0m\n\u001b[0;32m    927\u001b[0m     \u001b[1;32mtry\u001b[0m\u001b[1;33m:\u001b[0m\u001b[1;33m\u001b[0m\u001b[1;33m\u001b[0m\u001b[0m\n\u001b[0;32m    928\u001b[0m       result = self._run(None, fetches, feed_dict, options_ptr,\n\u001b[1;32m--> 929\u001b[1;33m                          run_metadata_ptr)\n\u001b[0m\u001b[0;32m    930\u001b[0m       \u001b[1;32mif\u001b[0m \u001b[0mrun_metadata\u001b[0m\u001b[1;33m:\u001b[0m\u001b[1;33m\u001b[0m\u001b[1;33m\u001b[0m\u001b[0m\n\u001b[0;32m    931\u001b[0m         \u001b[0mproto_data\u001b[0m \u001b[1;33m=\u001b[0m \u001b[0mtf_session\u001b[0m\u001b[1;33m.\u001b[0m\u001b[0mTF_GetBuffer\u001b[0m\u001b[1;33m(\u001b[0m\u001b[0mrun_metadata_ptr\u001b[0m\u001b[1;33m)\u001b[0m\u001b[1;33m\u001b[0m\u001b[1;33m\u001b[0m\u001b[0m\n",
      "\u001b[1;32mD:\\Programming_Software\\Anaconda\\anaconda\\lib\\site-packages\\tensorflow\\python\\client\\session.py\u001b[0m in \u001b[0;36m_run\u001b[1;34m(self, handle, fetches, feed_dict, options, run_metadata)\u001b[0m\n\u001b[0;32m   1150\u001b[0m     \u001b[1;32mif\u001b[0m \u001b[0mfinal_fetches\u001b[0m \u001b[1;32mor\u001b[0m \u001b[0mfinal_targets\u001b[0m \u001b[1;32mor\u001b[0m \u001b[1;33m(\u001b[0m\u001b[0mhandle\u001b[0m \u001b[1;32mand\u001b[0m \u001b[0mfeed_dict_tensor\u001b[0m\u001b[1;33m)\u001b[0m\u001b[1;33m:\u001b[0m\u001b[1;33m\u001b[0m\u001b[1;33m\u001b[0m\u001b[0m\n\u001b[0;32m   1151\u001b[0m       results = self._do_run(handle, final_targets, final_fetches,\n\u001b[1;32m-> 1152\u001b[1;33m                              feed_dict_tensor, options, run_metadata)\n\u001b[0m\u001b[0;32m   1153\u001b[0m     \u001b[1;32melse\u001b[0m\u001b[1;33m:\u001b[0m\u001b[1;33m\u001b[0m\u001b[1;33m\u001b[0m\u001b[0m\n\u001b[0;32m   1154\u001b[0m       \u001b[0mresults\u001b[0m \u001b[1;33m=\u001b[0m \u001b[1;33m[\u001b[0m\u001b[1;33m]\u001b[0m\u001b[1;33m\u001b[0m\u001b[1;33m\u001b[0m\u001b[0m\n",
      "\u001b[1;32mD:\\Programming_Software\\Anaconda\\anaconda\\lib\\site-packages\\tensorflow\\python\\client\\session.py\u001b[0m in \u001b[0;36m_do_run\u001b[1;34m(self, handle, target_list, fetch_list, feed_dict, options, run_metadata)\u001b[0m\n\u001b[0;32m   1326\u001b[0m     \u001b[1;32mif\u001b[0m \u001b[0mhandle\u001b[0m \u001b[1;32mis\u001b[0m \u001b[1;32mNone\u001b[0m\u001b[1;33m:\u001b[0m\u001b[1;33m\u001b[0m\u001b[1;33m\u001b[0m\u001b[0m\n\u001b[0;32m   1327\u001b[0m       return self._do_call(_run_fn, feeds, fetches, targets, options,\n\u001b[1;32m-> 1328\u001b[1;33m                            run_metadata)\n\u001b[0m\u001b[0;32m   1329\u001b[0m     \u001b[1;32melse\u001b[0m\u001b[1;33m:\u001b[0m\u001b[1;33m\u001b[0m\u001b[1;33m\u001b[0m\u001b[0m\n\u001b[0;32m   1330\u001b[0m       \u001b[1;32mreturn\u001b[0m \u001b[0mself\u001b[0m\u001b[1;33m.\u001b[0m\u001b[0m_do_call\u001b[0m\u001b[1;33m(\u001b[0m\u001b[0m_prun_fn\u001b[0m\u001b[1;33m,\u001b[0m \u001b[0mhandle\u001b[0m\u001b[1;33m,\u001b[0m \u001b[0mfeeds\u001b[0m\u001b[1;33m,\u001b[0m \u001b[0mfetches\u001b[0m\u001b[1;33m)\u001b[0m\u001b[1;33m\u001b[0m\u001b[1;33m\u001b[0m\u001b[0m\n",
      "\u001b[1;32mD:\\Programming_Software\\Anaconda\\anaconda\\lib\\site-packages\\tensorflow\\python\\client\\session.py\u001b[0m in \u001b[0;36m_do_call\u001b[1;34m(self, fn, *args)\u001b[0m\n\u001b[0;32m   1346\u001b[0m           \u001b[1;32mpass\u001b[0m\u001b[1;33m\u001b[0m\u001b[1;33m\u001b[0m\u001b[0m\n\u001b[0;32m   1347\u001b[0m       \u001b[0mmessage\u001b[0m \u001b[1;33m=\u001b[0m \u001b[0merror_interpolation\u001b[0m\u001b[1;33m.\u001b[0m\u001b[0minterpolate\u001b[0m\u001b[1;33m(\u001b[0m\u001b[0mmessage\u001b[0m\u001b[1;33m,\u001b[0m \u001b[0mself\u001b[0m\u001b[1;33m.\u001b[0m\u001b[0m_graph\u001b[0m\u001b[1;33m)\u001b[0m\u001b[1;33m\u001b[0m\u001b[1;33m\u001b[0m\u001b[0m\n\u001b[1;32m-> 1348\u001b[1;33m       \u001b[1;32mraise\u001b[0m \u001b[0mtype\u001b[0m\u001b[1;33m(\u001b[0m\u001b[0me\u001b[0m\u001b[1;33m)\u001b[0m\u001b[1;33m(\u001b[0m\u001b[0mnode_def\u001b[0m\u001b[1;33m,\u001b[0m \u001b[0mop\u001b[0m\u001b[1;33m,\u001b[0m \u001b[0mmessage\u001b[0m\u001b[1;33m)\u001b[0m\u001b[1;33m\u001b[0m\u001b[1;33m\u001b[0m\u001b[0m\n\u001b[0m\u001b[0;32m   1349\u001b[0m \u001b[1;33m\u001b[0m\u001b[0m\n\u001b[0;32m   1350\u001b[0m   \u001b[1;32mdef\u001b[0m \u001b[0m_extend_graph\u001b[0m\u001b[1;33m(\u001b[0m\u001b[0mself\u001b[0m\u001b[1;33m)\u001b[0m\u001b[1;33m:\u001b[0m\u001b[1;33m\u001b[0m\u001b[1;33m\u001b[0m\u001b[0m\n",
      "\u001b[1;31mInvalidArgumentError\u001b[0m: Incompatible shapes: [640] vs. [32]\n\t [[node gradients/sub_grad/BroadcastGradientArgs (defined at <ipython-input-99-0449915ea09e>:9)  = BroadcastGradientArgs[T=DT_INT32, _device=\"/job:localhost/replica:0/task:0/device:CPU:0\"](gradients/sub_grad/Shape, gradients/sub_grad/Shape_1)]]\n\nCaused by op 'gradients/sub_grad/BroadcastGradientArgs', defined at:\n  File \"D:\\Programming_Software\\Anaconda\\anaconda\\lib\\runpy.py\", line 193, in _run_module_as_main\n    \"__main__\", mod_spec)\n  File \"D:\\Programming_Software\\Anaconda\\anaconda\\lib\\runpy.py\", line 85, in _run_code\n    exec(code, run_globals)\n  File \"D:\\Programming_Software\\Anaconda\\anaconda\\lib\\site-packages\\ipykernel_launcher.py\", line 16, in <module>\n    app.launch_new_instance()\n  File \"D:\\Programming_Software\\Anaconda\\anaconda\\lib\\site-packages\\traitlets\\config\\application.py\", line 658, in launch_instance\n    app.start()\n  File \"D:\\Programming_Software\\Anaconda\\anaconda\\lib\\site-packages\\ipykernel\\kernelapp.py\", line 505, in start\n    self.io_loop.start()\n  File \"D:\\Programming_Software\\Anaconda\\anaconda\\lib\\site-packages\\tornado\\platform\\asyncio.py\", line 132, in start\n    self.asyncio_loop.run_forever()\n  File \"D:\\Programming_Software\\Anaconda\\anaconda\\lib\\asyncio\\base_events.py\", line 438, in run_forever\n    self._run_once()\n  File \"D:\\Programming_Software\\Anaconda\\anaconda\\lib\\asyncio\\base_events.py\", line 1451, in _run_once\n    handle._run()\n  File \"D:\\Programming_Software\\Anaconda\\anaconda\\lib\\asyncio\\events.py\", line 145, in _run\n    self._callback(*self._args)\n  File \"D:\\Programming_Software\\Anaconda\\anaconda\\lib\\site-packages\\tornado\\ioloop.py\", line 758, in _run_callback\n    ret = callback()\n  File \"D:\\Programming_Software\\Anaconda\\anaconda\\lib\\site-packages\\tornado\\stack_context.py\", line 300, in null_wrapper\n    return fn(*args, **kwargs)\n  File \"D:\\Programming_Software\\Anaconda\\anaconda\\lib\\site-packages\\tornado\\gen.py\", line 1233, in inner\n    self.run()\n  File \"D:\\Programming_Software\\Anaconda\\anaconda\\lib\\site-packages\\tornado\\gen.py\", line 1147, in run\n    yielded = self.gen.send(value)\n  File \"D:\\Programming_Software\\Anaconda\\anaconda\\lib\\site-packages\\ipykernel\\kernelbase.py\", line 370, in dispatch_queue\n    yield self.process_one()\n  File \"D:\\Programming_Software\\Anaconda\\anaconda\\lib\\site-packages\\tornado\\gen.py\", line 346, in wrapper\n    runner = Runner(result, future, yielded)\n  File \"D:\\Programming_Software\\Anaconda\\anaconda\\lib\\site-packages\\tornado\\gen.py\", line 1080, in __init__\n    self.run()\n  File \"D:\\Programming_Software\\Anaconda\\anaconda\\lib\\site-packages\\tornado\\gen.py\", line 1147, in run\n    yielded = self.gen.send(value)\n  File \"D:\\Programming_Software\\Anaconda\\anaconda\\lib\\site-packages\\ipykernel\\kernelbase.py\", line 357, in process_one\n    yield gen.maybe_future(dispatch(*args))\n  File \"D:\\Programming_Software\\Anaconda\\anaconda\\lib\\site-packages\\tornado\\gen.py\", line 326, in wrapper\n    yielded = next(result)\n  File \"D:\\Programming_Software\\Anaconda\\anaconda\\lib\\site-packages\\ipykernel\\kernelbase.py\", line 267, in dispatch_shell\n    yield gen.maybe_future(handler(stream, idents, msg))\n  File \"D:\\Programming_Software\\Anaconda\\anaconda\\lib\\site-packages\\tornado\\gen.py\", line 326, in wrapper\n    yielded = next(result)\n  File \"D:\\Programming_Software\\Anaconda\\anaconda\\lib\\site-packages\\ipykernel\\kernelbase.py\", line 534, in execute_request\n    user_expressions, allow_stdin,\n  File \"D:\\Programming_Software\\Anaconda\\anaconda\\lib\\site-packages\\tornado\\gen.py\", line 326, in wrapper\n    yielded = next(result)\n  File \"D:\\Programming_Software\\Anaconda\\anaconda\\lib\\site-packages\\ipykernel\\ipkernel.py\", line 294, in do_execute\n    res = shell.run_cell(code, store_history=store_history, silent=silent)\n  File \"D:\\Programming_Software\\Anaconda\\anaconda\\lib\\site-packages\\ipykernel\\zmqshell.py\", line 536, in run_cell\n    return super(ZMQInteractiveShell, self).run_cell(*args, **kwargs)\n  File \"D:\\Programming_Software\\Anaconda\\anaconda\\lib\\site-packages\\IPython\\core\\interactiveshell.py\", line 2819, in run_cell\n    raw_cell, store_history, silent, shell_futures)\n  File \"D:\\Programming_Software\\Anaconda\\anaconda\\lib\\site-packages\\IPython\\core\\interactiveshell.py\", line 2845, in _run_cell\n    return runner(coro)\n  File \"D:\\Programming_Software\\Anaconda\\anaconda\\lib\\site-packages\\IPython\\core\\async_helpers.py\", line 67, in _pseudo_sync_runner\n    coro.send(None)\n  File \"D:\\Programming_Software\\Anaconda\\anaconda\\lib\\site-packages\\IPython\\core\\interactiveshell.py\", line 3020, in run_cell_async\n    interactivity=interactivity, compiler=compiler, result=result)\n  File \"D:\\Programming_Software\\Anaconda\\anaconda\\lib\\site-packages\\IPython\\core\\interactiveshell.py\", line 3185, in run_ast_nodes\n    if (yield from self.run_code(code, result)):\n  File \"D:\\Programming_Software\\Anaconda\\anaconda\\lib\\site-packages\\IPython\\core\\interactiveshell.py\", line 3267, in run_code\n    exec(code_obj, self.user_global_ns, self.user_ns)\n  File \"<ipython-input-100-36da1b08c0b1>\", line 1, in <module>\n    test_predict = train_lstm(batch_size=32,time_step=20,future_day=10,train_percentage=0.7)\n  File \"<ipython-input-99-0449915ea09e>\", line 9, in train_lstm\n    train_op=tf.train.AdamOptimizer(lr).minimize(loss)\n  File \"D:\\Programming_Software\\Anaconda\\anaconda\\lib\\site-packages\\tensorflow\\python\\training\\optimizer.py\", line 400, in minimize\n    grad_loss=grad_loss)\n  File \"D:\\Programming_Software\\Anaconda\\anaconda\\lib\\site-packages\\tensorflow\\python\\training\\optimizer.py\", line 519, in compute_gradients\n    colocate_gradients_with_ops=colocate_gradients_with_ops)\n  File \"D:\\Programming_Software\\Anaconda\\anaconda\\lib\\site-packages\\tensorflow\\python\\ops\\gradients_impl.py\", line 630, in gradients\n    gate_gradients, aggregation_method, stop_gradients)\n  File \"D:\\Programming_Software\\Anaconda\\anaconda\\lib\\site-packages\\tensorflow\\python\\ops\\gradients_impl.py\", line 814, in _GradientsHelper\n    lambda: grad_fn(op, *out_grads))\n  File \"D:\\Programming_Software\\Anaconda\\anaconda\\lib\\site-packages\\tensorflow\\python\\ops\\gradients_impl.py\", line 408, in _MaybeCompile\n    return grad_fn()  # Exit early\n  File \"D:\\Programming_Software\\Anaconda\\anaconda\\lib\\site-packages\\tensorflow\\python\\ops\\gradients_impl.py\", line 814, in <lambda>\n    lambda: grad_fn(op, *out_grads))\n  File \"D:\\Programming_Software\\Anaconda\\anaconda\\lib\\site-packages\\tensorflow\\python\\ops\\math_grad.py\", line 923, in _SubGrad\n    rx, ry = gen_array_ops.broadcast_gradient_args(sx, sy)\n  File \"D:\\Programming_Software\\Anaconda\\anaconda\\lib\\site-packages\\tensorflow\\python\\ops\\gen_array_ops.py\", line 675, in broadcast_gradient_args\n    \"BroadcastGradientArgs\", s0=s0, s1=s1, name=name)\n  File \"D:\\Programming_Software\\Anaconda\\anaconda\\lib\\site-packages\\tensorflow\\python\\framework\\op_def_library.py\", line 787, in _apply_op_helper\n    op_def=op_def)\n  File \"D:\\Programming_Software\\Anaconda\\anaconda\\lib\\site-packages\\tensorflow\\python\\util\\deprecation.py\", line 488, in new_func\n    return func(*args, **kwargs)\n  File \"D:\\Programming_Software\\Anaconda\\anaconda\\lib\\site-packages\\tensorflow\\python\\framework\\ops.py\", line 3274, in create_op\n    op_def=op_def)\n  File \"D:\\Programming_Software\\Anaconda\\anaconda\\lib\\site-packages\\tensorflow\\python\\framework\\ops.py\", line 1770, in __init__\n    self._traceback = tf_stack.extract_stack()\n\n...which was originally created as op 'sub', defined at:\n  File \"D:\\Programming_Software\\Anaconda\\anaconda\\lib\\runpy.py\", line 193, in _run_module_as_main\n    \"__main__\", mod_spec)\n[elided 30 identical lines from previous traceback]\n  File \"<ipython-input-100-36da1b08c0b1>\", line 1, in <module>\n    test_predict = train_lstm(batch_size=32,time_step=20,future_day=10,train_percentage=0.7)\n  File \"<ipython-input-99-0449915ea09e>\", line 8, in train_lstm\n    loss=tf.reduce_mean(tf.square(tf.reshape(pred,[-1])-tf.reshape(Y, [-1])))\n  File \"D:\\Programming_Software\\Anaconda\\anaconda\\lib\\site-packages\\tensorflow\\python\\ops\\math_ops.py\", line 866, in binary_op_wrapper\n    return func(x, y, name=name)\n  File \"D:\\Programming_Software\\Anaconda\\anaconda\\lib\\site-packages\\tensorflow\\python\\ops\\gen_math_ops.py\", line 8317, in sub\n    \"Sub\", x=x, y=y, name=name)\n  File \"D:\\Programming_Software\\Anaconda\\anaconda\\lib\\site-packages\\tensorflow\\python\\framework\\op_def_library.py\", line 787, in _apply_op_helper\n    op_def=op_def)\n  File \"D:\\Programming_Software\\Anaconda\\anaconda\\lib\\site-packages\\tensorflow\\python\\util\\deprecation.py\", line 488, in new_func\n    return func(*args, **kwargs)\n  File \"D:\\Programming_Software\\Anaconda\\anaconda\\lib\\site-packages\\tensorflow\\python\\framework\\ops.py\", line 3274, in create_op\n    op_def=op_def)\n  File \"D:\\Programming_Software\\Anaconda\\anaconda\\lib\\site-packages\\tensorflow\\python\\framework\\ops.py\", line 1770, in __init__\n    self._traceback = tf_stack.extract_stack()\n\nInvalidArgumentError (see above for traceback): Incompatible shapes: [640] vs. [32]\n\t [[node gradients/sub_grad/BroadcastGradientArgs (defined at <ipython-input-99-0449915ea09e>:9)  = BroadcastGradientArgs[T=DT_INT32, _device=\"/job:localhost/replica:0/task:0/device:CPU:0\"](gradients/sub_grad/Shape, gradients/sub_grad/Shape_1)]]\n"
     ]
    }
   ],
   "source": [
    "test_predict = train_lstm(batch_size=32,time_step=20,future_day=10,train_percentage=0.7)"
   ]
  }
 ],
 "metadata": {
  "kernelspec": {
   "display_name": "Python 3",
   "language": "python",
   "name": "python3"
  },
  "language_info": {
   "codemirror_mode": {
    "name": "ipython",
    "version": 3
   },
   "file_extension": ".py",
   "mimetype": "text/x-python",
   "name": "python",
   "nbconvert_exporter": "python",
   "pygments_lexer": "ipython3",
   "version": "3.6.8"
  }
 },
 "nbformat": 4,
 "nbformat_minor": 2
}
