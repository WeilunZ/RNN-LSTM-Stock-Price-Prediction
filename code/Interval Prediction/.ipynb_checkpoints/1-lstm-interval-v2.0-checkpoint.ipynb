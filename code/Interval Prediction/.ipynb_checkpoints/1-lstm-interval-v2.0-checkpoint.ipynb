{
 "cells": [
  {
   "cell_type": "code",
   "execution_count": 1,
   "metadata": {},
   "outputs": [],
   "source": [
    "import tensorflow as tf\n",
    "import numpy as np\n",
    "import matplotlib.pyplot as plt\n",
    "import seaborn as sns\n",
    "import pandas as pd\n",
    "from sklearn.preprocessing import MinMaxScaler\n",
    "from datetime import datetime\n",
    "from datetime import timedelta\n",
    "import math\n",
    "sns.set()"
   ]
  },
  {
   "cell_type": "code",
   "execution_count": 2,
   "metadata": {},
   "outputs": [],
   "source": [
    "stock_name='GOOGL'"
   ]
  },
  {
   "cell_type": "code",
   "execution_count": 3,
   "metadata": {},
   "outputs": [
    {
     "name": "stdout",
     "output_type": "stream",
     "text": [
      "(1259, 6)\n"
     ]
    }
   ],
   "source": [
    "df = pd.read_csv('../../dataset/5year/'+stock_name+'-5year.csv')\n",
    "date_ori = pd.to_datetime(df.iloc[:, 0]).tolist()\n",
    "data=df.iloc[:,1:].values\n",
    "print(data.shape)"
   ]
  },
  {
   "cell_type": "code",
   "execution_count": 4,
   "metadata": {},
   "outputs": [],
   "source": [
    "#定义常量\n",
    "rnn_unit=10       #hidden layer units\n",
    "input_size=data.shape[1]    \n",
    "output_size=1\n",
    "lr=0.01         #学习率\n",
    "tf.reset_default_graph()\n",
    "#输入层、输出层权重、偏置\n",
    "weights={\n",
    "         'in':tf.Variable(tf.random_normal([input_size,rnn_unit])),\n",
    "         'out':tf.Variable(tf.random_normal([rnn_unit,1]))\n",
    "         }\n",
    "biases={\n",
    "        'in':tf.Variable(tf.constant(0.1,shape=[rnn_unit,])),\n",
    "        'out':tf.Variable(tf.constant(0.1,shape=[1,]))\n",
    "        }"
   ]
  },
  {
   "cell_type": "code",
   "execution_count": null,
   "metadata": {},
   "outputs": [],
   "source": [
    "def get_data(batch_size=60,time_step=20,train_begin=0,train_end=487):\n",
    "    batch_index=[]\n",
    "        \n",
    "    scaler_for_x=MinMaxScaler(feature_range=(0,1))  #按列做minmax缩放\n",
    "    scaler_for_y=MinMaxScaler(feature_range=(0,1))\n",
    "    scaled_x_data=scaler_for_x.fit_transform(data[:,:-1])\n",
    "    scaled_y_data=scaler_for_y.fit_transform(data[:,-1])\n",
    "    \n",
    "    label_train = scaled_y_data[train_begin:train_end]\n",
    "    label_test = scaled_y_data[train_end:]\n",
    "    normalized_train_data = scaled_x_data[train_begin:train_end]\n",
    "    normalized_test_data = scaled_x_data[train_end:]\n",
    "    \n",
    "    train_x,train_y=[],[]   #训练集x和y初定义\n",
    "    for i in range(len(normalized_train_data)-time_step):\n",
    "        if i % batch_size==0:\n",
    "            batch_index.append(i)\n",
    "        x=normalized_train_data[i:i+time_step,:4]\n",
    "        y=label_train[i:i+time_step,np.newaxis]\n",
    "        train_x.append(x.tolist())\n",
    "        train_y.append(y.tolist())\n",
    "    batch_index.append((len(normalized_train_data)-time_step))\n",
    "    \n",
    "    size=(len(normalized_test_data)+time_step-1)//time_step  #有size个sample \n",
    "    test_x,test_y=[],[]  \n",
    "    for i in range(size-1):\n",
    "        x=normalized_test_data[i*time_step:(i+1)*time_step,:4]\n",
    "        y=label_test[i*time_step:(i+1)*time_step]\n",
    "        test_x.append(x.tolist())\n",
    "        test_y.extend(y)\n",
    "    test_x.append((normalized_test_data[(i+1)*time_step:,:4]).tolist())\n",
    "    test_y.extend((label_test[(i+1)*time_step:]).tolist())    \n",
    "    \n",
    "    return batch_index,train_x,train_y,test_x,test_y,scaler_for_y"
   ]
  }
 ],
 "metadata": {
  "kernelspec": {
   "display_name": "Python 3",
   "language": "python",
   "name": "python3"
  },
  "language_info": {
   "codemirror_mode": {
    "name": "ipython",
    "version": 3
   },
   "file_extension": ".py",
   "mimetype": "text/x-python",
   "name": "python",
   "nbconvert_exporter": "python",
   "pygments_lexer": "ipython3",
   "version": "3.6.5"
  }
 },
 "nbformat": 4,
 "nbformat_minor": 2
}
