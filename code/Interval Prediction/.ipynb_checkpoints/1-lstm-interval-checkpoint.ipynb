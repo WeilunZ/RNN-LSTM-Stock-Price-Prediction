{
 "cells": [
  {
   "cell_type": "code",
   "execution_count": 54,
   "metadata": {},
   "outputs": [],
   "source": [
    "import tensorflow as tf\n",
    "import numpy as np\n",
    "import matplotlib.pyplot as plt\n",
    "import seaborn as sns\n",
    "import pandas as pd\n",
    "from sklearn.preprocessing import MinMaxScaler\n",
    "from datetime import datetime\n",
    "from datetime import timedelta\n",
    "import math\n",
    "sns.set()"
   ]
  },
  {
   "cell_type": "code",
   "execution_count": null,
   "metadata": {},
   "outputs": [],
   "source": [
    "stock_name='GOOGL'"
   ]
  },
  {
   "cell_type": "code",
   "execution_count": 55,
   "metadata": {},
   "outputs": [
    {
     "data": {
      "text/html": [
       "<div>\n",
       "<style scoped>\n",
       "    .dataframe tbody tr th:only-of-type {\n",
       "        vertical-align: middle;\n",
       "    }\n",
       "\n",
       "    .dataframe tbody tr th {\n",
       "        vertical-align: top;\n",
       "    }\n",
       "\n",
       "    .dataframe thead th {\n",
       "        text-align: right;\n",
       "    }\n",
       "</style>\n",
       "<table border=\"1\" class=\"dataframe\">\n",
       "  <thead>\n",
       "    <tr style=\"text-align: right;\">\n",
       "      <th></th>\n",
       "      <th>Date</th>\n",
       "      <th>Open</th>\n",
       "      <th>High</th>\n",
       "      <th>Low</th>\n",
       "      <th>Close</th>\n",
       "      <th>Adj Close</th>\n",
       "      <th>Volume</th>\n",
       "    </tr>\n",
       "  </thead>\n",
       "  <tbody>\n",
       "    <tr>\n",
       "      <th>0</th>\n",
       "      <td>2014-05-27</td>\n",
       "      <td>567.780029</td>\n",
       "      <td>574.869995</td>\n",
       "      <td>564.150024</td>\n",
       "      <td>574.869995</td>\n",
       "      <td>574.869995</td>\n",
       "      <td>2185800</td>\n",
       "    </tr>\n",
       "    <tr>\n",
       "      <th>1</th>\n",
       "      <td>2014-05-28</td>\n",
       "      <td>574.570007</td>\n",
       "      <td>577.659973</td>\n",
       "      <td>569.950012</td>\n",
       "      <td>570.450012</td>\n",
       "      <td>570.450012</td>\n",
       "      <td>1581600</td>\n",
       "    </tr>\n",
       "    <tr>\n",
       "      <th>2</th>\n",
       "      <td>2014-05-29</td>\n",
       "      <td>573.390015</td>\n",
       "      <td>573.479980</td>\n",
       "      <td>568.450012</td>\n",
       "      <td>570.559998</td>\n",
       "      <td>570.559998</td>\n",
       "      <td>1411100</td>\n",
       "    </tr>\n",
       "    <tr>\n",
       "      <th>3</th>\n",
       "      <td>2014-05-30</td>\n",
       "      <td>571.640015</td>\n",
       "      <td>572.580017</td>\n",
       "      <td>565.789978</td>\n",
       "      <td>571.650024</td>\n",
       "      <td>571.650024</td>\n",
       "      <td>1871700</td>\n",
       "    </tr>\n",
       "    <tr>\n",
       "      <th>4</th>\n",
       "      <td>2014-06-02</td>\n",
       "      <td>569.750000</td>\n",
       "      <td>570.409973</td>\n",
       "      <td>556.700012</td>\n",
       "      <td>564.340027</td>\n",
       "      <td>564.340027</td>\n",
       "      <td>1660500</td>\n",
       "    </tr>\n",
       "  </tbody>\n",
       "</table>\n",
       "</div>"
      ],
      "text/plain": [
       "         Date        Open        High         Low       Close   Adj Close  \\\n",
       "0  2014-05-27  567.780029  574.869995  564.150024  574.869995  574.869995   \n",
       "1  2014-05-28  574.570007  577.659973  569.950012  570.450012  570.450012   \n",
       "2  2014-05-29  573.390015  573.479980  568.450012  570.559998  570.559998   \n",
       "3  2014-05-30  571.640015  572.580017  565.789978  571.650024  571.650024   \n",
       "4  2014-06-02  569.750000  570.409973  556.700012  564.340027  564.340027   \n",
       "\n",
       "    Volume  \n",
       "0  2185800  \n",
       "1  1581600  \n",
       "2  1411100  \n",
       "3  1871700  \n",
       "4  1660500  "
      ]
     },
     "execution_count": 55,
     "metadata": {},
     "output_type": "execute_result"
    }
   ],
   "source": [
    "df = pd.read_csv('../../dataset/5year/'+stock_name+'-5year.csv')\n",
    "date_ori = pd.to_datetime(df.iloc[:, 0]).tolist()\n",
    "df.head()"
   ]
  },
  {
   "cell_type": "code",
   "execution_count": 56,
   "metadata": {},
   "outputs": [
    {
     "data": {
      "text/html": [
       "<div>\n",
       "<style scoped>\n",
       "    .dataframe tbody tr th:only-of-type {\n",
       "        vertical-align: middle;\n",
       "    }\n",
       "\n",
       "    .dataframe tbody tr th {\n",
       "        vertical-align: top;\n",
       "    }\n",
       "\n",
       "    .dataframe thead th {\n",
       "        text-align: right;\n",
       "    }\n",
       "</style>\n",
       "<table border=\"1\" class=\"dataframe\">\n",
       "  <thead>\n",
       "    <tr style=\"text-align: right;\">\n",
       "      <th></th>\n",
       "      <th>0</th>\n",
       "      <th>1</th>\n",
       "      <th>2</th>\n",
       "      <th>3</th>\n",
       "      <th>4</th>\n",
       "      <th>5</th>\n",
       "    </tr>\n",
       "  </thead>\n",
       "  <tbody>\n",
       "    <tr>\n",
       "      <th>0</th>\n",
       "      <td>0.086773</td>\n",
       "      <td>0.093625</td>\n",
       "      <td>0.093801</td>\n",
       "      <td>0.097367</td>\n",
       "      <td>0.097367</td>\n",
       "      <td>0.134971</td>\n",
       "    </tr>\n",
       "    <tr>\n",
       "      <th>1</th>\n",
       "      <td>0.095369</td>\n",
       "      <td>0.097127</td>\n",
       "      <td>0.101230</td>\n",
       "      <td>0.091836</td>\n",
       "      <td>0.091836</td>\n",
       "      <td>0.085998</td>\n",
       "    </tr>\n",
       "    <tr>\n",
       "      <th>2</th>\n",
       "      <td>0.093875</td>\n",
       "      <td>0.091880</td>\n",
       "      <td>0.099308</td>\n",
       "      <td>0.091974</td>\n",
       "      <td>0.091974</td>\n",
       "      <td>0.072178</td>\n",
       "    </tr>\n",
       "    <tr>\n",
       "      <th>3</th>\n",
       "      <td>0.091660</td>\n",
       "      <td>0.090751</td>\n",
       "      <td>0.095902</td>\n",
       "      <td>0.093338</td>\n",
       "      <td>0.093338</td>\n",
       "      <td>0.109512</td>\n",
       "    </tr>\n",
       "    <tr>\n",
       "      <th>4</th>\n",
       "      <td>0.089267</td>\n",
       "      <td>0.088027</td>\n",
       "      <td>0.084260</td>\n",
       "      <td>0.084191</td>\n",
       "      <td>0.084191</td>\n",
       "      <td>0.092393</td>\n",
       "    </tr>\n",
       "  </tbody>\n",
       "</table>\n",
       "</div>"
      ],
      "text/plain": [
       "          0         1         2         3         4         5\n",
       "0  0.086773  0.093625  0.093801  0.097367  0.097367  0.134971\n",
       "1  0.095369  0.097127  0.101230  0.091836  0.091836  0.085998\n",
       "2  0.093875  0.091880  0.099308  0.091974  0.091974  0.072178\n",
       "3  0.091660  0.090751  0.095902  0.093338  0.093338  0.109512\n",
       "4  0.089267  0.088027  0.084260  0.084191  0.084191  0.092393"
      ]
     },
     "execution_count": 56,
     "metadata": {},
     "output_type": "execute_result"
    }
   ],
   "source": [
    "minmax = MinMaxScaler().fit(df.iloc[:, 1:].astype('float32'))\n",
    "df_log = minmax.transform(df.iloc[:, 1:].astype('float32'))\n",
    "df_log = pd.DataFrame(df_log)\n",
    "df_log.head()"
   ]
  },
  {
   "cell_type": "code",
   "execution_count": 57,
   "metadata": {},
   "outputs": [],
   "source": [
    "train_percentage=0.67\n",
    "df_train=df_log[:math.ceil(train_percentage*df_log.shape[0])]\n",
    "df_test=df_log[math.ceil(train_percentage*df_log.shape[0]):]"
   ]
  },
  {
   "cell_type": "code",
   "execution_count": 58,
   "metadata": {},
   "outputs": [],
   "source": [
    "class Model:\n",
    "    def __init__(\n",
    "        self,\n",
    "        learning_rate,\n",
    "        num_layers,\n",
    "        size,\n",
    "        size_layer,\n",
    "        output_size,\n",
    "        forget_bias = 0.1,\n",
    "    ):\n",
    "        def lstm_cell(size_layer):\n",
    "            return tf.nn.rnn_cell.LSTMCell(size_layer, state_is_tuple = False)\n",
    "\n",
    "        rnn_cells = tf.nn.rnn_cell.MultiRNNCell(\n",
    "            [lstm_cell(size_layer) for _ in range(num_layers)],\n",
    "            state_is_tuple = False,\n",
    "        )\n",
    "        self.X = tf.placeholder(tf.float32, (None, None, size))\n",
    "        self.Y = tf.placeholder(tf.float32, (None, output_size))\n",
    "        drop = tf.contrib.rnn.DropoutWrapper(\n",
    "            rnn_cells, output_keep_prob = forget_bias\n",
    "        )\n",
    "        self.hidden_layer = tf.placeholder(\n",
    "            tf.float32, (None, num_layers * 2 * size_layer)\n",
    "        )\n",
    "        self.outputs, self.last_state = tf.nn.dynamic_rnn(\n",
    "            drop, self.X, initial_state = self.hidden_layer, dtype = tf.float32\n",
    "        )\n",
    "        self.logits = tf.layers.dense(self.outputs[-1], output_size)\n",
    "        self.cost = tf.reduce_mean(tf.square(self.Y - self.logits))\n",
    "        self.optimizer = tf.train.AdamOptimizer(learning_rate).minimize(\n",
    "            self.cost\n",
    "        )\n",
    "        self.residue=self.Y - self.logits"
   ]
  },
  {
   "cell_type": "code",
   "execution_count": 59,
   "metadata": {},
   "outputs": [],
   "source": [
    "num_layers = 1\n",
    "size_layer = 6\n",
    "timestamp = 5\n",
    "epoch = 50\n",
    "dropout_rate = 0.3\n",
    "future_day = 60"
   ]
  },
  {
   "cell_type": "code",
   "execution_count": 60,
   "metadata": {},
   "outputs": [
    {
     "name": "stdout",
     "output_type": "stream",
     "text": [
      "WARNING:tensorflow:<tensorflow.python.ops.rnn_cell_impl.LSTMCell object at 0x000000000F5E8E48>: Using a concatenated state is slower and will soon be deprecated.  Use state_is_tuple=True.\n"
     ]
    },
    {
     "name": "stderr",
     "output_type": "stream",
     "text": [
      "E:\\Anacoda3 REAL\\lib\\site-packages\\tensorflow\\python\\client\\session.py:1645: UserWarning: An interactive session is already active. This can cause out-of-memory errors in some cases. You must explicitly call `InteractiveSession.close()` to release resources held by the other session(s).\n",
      "  warnings.warn('An interactive session is already active. This can '\n"
     ]
    }
   ],
   "source": [
    "tf.reset_default_graph()\n",
    "modelnn = Model(\n",
    "    0.01, num_layers, df_train.shape[1], size_layer, df_train.shape[1], dropout_rate\n",
    ")\n",
    "sess = tf.InteractiveSession()\n",
    "sess.run(tf.global_variables_initializer())"
   ]
  },
  {
   "cell_type": "code",
   "execution_count": 61,
   "metadata": {
    "scrolled": true
   },
   "outputs": [
    {
     "name": "stdout",
     "output_type": "stream",
     "text": [
      "epoch: 50 avg loss: 0.011204189125800483\n"
     ]
    }
   ],
   "source": [
    "for i in range(epoch):\n",
    "    init_value = np.zeros((1, num_layers * 2 * size_layer))\n",
    "    total_loss = 0\n",
    "    for k in range(0, df_train.shape[0] - 1, timestamp):\n",
    "        #print(k)\n",
    "        index = min(k + timestamp, df_train.shape[0] -1)\n",
    "        batch_x = np.expand_dims(\n",
    "            df_train.iloc[k : index, :].values, axis = 0\n",
    "        )\n",
    "        batch_y = df_train.iloc[k + 1 : index + 1, :].values\n",
    "        last_state, _, loss,residue = sess.run(\n",
    "            [modelnn.last_state, modelnn.optimizer, modelnn.cost,modelnn.residue],\n",
    "            feed_dict = {\n",
    "                modelnn.X: batch_x,\n",
    "                modelnn.Y: batch_y,\n",
    "                modelnn.hidden_layer: init_value,\n",
    "            },\n",
    "        )\n",
    "        if i==epoch-1:\n",
    "            if k==0:\n",
    "                last_residue=residue\n",
    "            else:\n",
    "                last_residue=np.vstack((last_residue,residue))\n",
    "        init_value = last_state\n",
    "        total_loss += loss\n",
    "    total_loss /= df_train.shape[0] // timestamp\n",
    "    if (i + 1) % 50 == 0:\n",
    "        print('epoch:', i + 1, 'avg loss:', total_loss)\n",
    "    \n",
    "        "
   ]
  },
  {
   "cell_type": "code",
   "execution_count": 62,
   "metadata": {},
   "outputs": [
    {
     "data": {
      "text/plain": [
       "(843, 6)"
      ]
     },
     "execution_count": 62,
     "metadata": {},
     "output_type": "execute_result"
    }
   ],
   "source": [
    "last_residue.shape"
   ]
  },
  {
   "cell_type": "code",
   "execution_count": 63,
   "metadata": {},
   "outputs": [
    {
     "name": "stdout",
     "output_type": "stream",
     "text": [
      "87.097374\n"
     ]
    }
   ],
   "source": [
    "inv_residue=minmax.inverse_transform(last_residue)\n",
    "#print(inv_residue)\n",
    "print(np.std(inv_residue[:,4]))\n",
    "resid_std=np.std(inv_residue[:,4])"
   ]
  },
  {
   "cell_type": "code",
   "execution_count": 64,
   "metadata": {},
   "outputs": [
    {
     "name": "stderr",
     "output_type": "stream",
     "text": [
      "E:\\Anacoda3 REAL\\lib\\site-packages\\ipykernel_launcher.py:27: SettingWithCopyWarning: \n",
      "A value is trying to be set on a copy of a slice from a DataFrame\n",
      "\n",
      "See the caveats in the documentation: http://pandas.pydata.org/pandas-docs/stable/indexing.html#indexing-view-versus-copy\n"
     ]
    }
   ],
   "source": [
    "output_predict = np.zeros((df_train.shape[0] + future_day, df_train.shape[1]))\n",
    "output_predict[0] = df_train.iloc[0]\n",
    "upper_b = (df_train.shape[0] // timestamp) * timestamp\n",
    "init_value = np.zeros((1, num_layers * 2 * size_layer))\n",
    "for k in range(0, (df_train.shape[0] // timestamp) * timestamp, timestamp):\n",
    "    out_logits, last_state = sess.run(\n",
    "        [modelnn.logits, modelnn.last_state],\n",
    "        feed_dict = {\n",
    "            modelnn.X: np.expand_dims(\n",
    "                df_train.iloc[k : k + timestamp], axis = 0\n",
    "            ),\n",
    "            modelnn.hidden_layer: init_value,\n",
    "        },\n",
    "    )\n",
    "    init_value = last_state\n",
    "    output_predict[k + 1 : k + timestamp + 1] = out_logits\n",
    "\n",
    "out_logits, last_state = sess.run(\n",
    "    [modelnn.logits, modelnn.last_state],\n",
    "    feed_dict = {\n",
    "        modelnn.X: np.expand_dims(df_train.iloc[upper_b:], axis = 0),\n",
    "        modelnn.hidden_layer: init_value,\n",
    "    },\n",
    ")\n",
    "init_value = last_state\n",
    "output_predict[upper_b + 1 : df_train.shape[0] + 1] = out_logits\n",
    "df_train.loc[df_train.shape[0]] = out_logits[-1]\n",
    "date_ori.append(date_ori[-1] + timedelta(days = 1))"
   ]
  },
  {
   "cell_type": "code",
   "execution_count": 65,
   "metadata": {},
   "outputs": [],
   "source": [
    "test_step60=df_train.copy()\n",
    "for i in range(future_day - 1):\n",
    "    out_logits, last_state = sess.run(\n",
    "        [modelnn.logits, modelnn.last_state],\n",
    "        feed_dict = {\n",
    "            modelnn.X: np.expand_dims(test_step60.iloc[-timestamp:], axis = 0),\n",
    "            modelnn.hidden_layer: init_value,\n",
    "        },\n",
    "    )\n",
    "    init_value = last_state\n",
    "    output_predict[test_step60.shape[0]] = out_logits[-1]\n",
    "    test_step60.loc[test_step60.shape[0]] = out_logits[-1]\n",
    "    date_ori.append(date_ori[-1] + timedelta(days = 1))"
   ]
  },
  {
   "cell_type": "code",
   "execution_count": 68,
   "metadata": {},
   "outputs": [
    {
     "data": {
      "text/plain": [
       "(904, 6)"
      ]
     },
     "execution_count": 68,
     "metadata": {},
     "output_type": "execute_result"
    }
   ],
   "source": [
    "output_predict.shape"
   ]
  },
  {
   "cell_type": "code",
   "execution_count": 101,
   "metadata": {
    "scrolled": true
   },
   "outputs": [
    {
     "name": "stdout",
     "output_type": "stream",
     "text": [
      "0 1125.451973384907 925.1280132713815 973.7199707031249\n",
      "1 1071.453693502773 788.1528322419384 967.4699707031251\n",
      "2 1153.5767207390995 806.6054438490722 972.0800170898439\n",
      "3 1180.4764406396068 779.828520412556 966.7800292968749\n",
      "4 1200.9995028230078 753.0615104872085 985.1900024414062\n",
      "5 1224.5272833687804 733.8357978369937 993.6400146484375\n",
      "6 1246.4020926548017 716.3947125467912 992.3099975585938\n",
      "7 1263.4280489543405 696.8263264326715 987.7999877929688\n",
      "8 1230.2743417172887 629.3024613767127 1005.6500244140624\n",
      "9 1295.7846368645214 662.3046530010586 1005.6500244140624\n"
     ]
    }
   ],
   "source": [
    "inv_yhat=minmax.inverse_transform(output_predict)\n",
    "inv_test=minmax.inverse_transform(df_test)\n",
    "upper_list,lower_list,rvalue_list,pvalue_list=[],[],[],[]\n",
    "for i in range(10):\n",
    "    pvalue=inv_yhat[df_train.shape[0]+i,4]\n",
    "    upper_bound=pvalue+1.15*resid_std*math.sqrt(i+1)\n",
    "    lower_bound=pvalue-1.15*resid_std*math.sqrt(i+1)\n",
    "    rvalue=inv_test[i,4]\n",
    "    print(i,upper_bound,lower_bound,rvalue)\n",
    "    upper_list.append(upper_bound)\n",
    "    lower_list.append(lower_bound)\n",
    "    rvalue_list.append(rvalue)\n",
    "    pvalue_list.append(pvalue)"
   ]
  },
  {
   "cell_type": "code",
   "execution_count": 104,
   "metadata": {},
   "outputs": [
    {
     "name": "stdout",
     "output_type": "stream",
     "text": [
      "[1025.2899933281442, 929.8032628723557, 980.0910822940858, 980.1524805260814, 977.0305066551081, 979.1815406028871, 981.3984026007964, 980.127187693506, 929.7884015470007, 979.04464493279]\n",
      "[973.7199707031249, 967.4699707031251, 972.0800170898439, 966.7800292968749, 985.1900024414062, 993.6400146484375, 992.3099975585938, 987.7999877929688, 1005.6500244140624, 1005.6500244140624]\n"
     ]
    }
   ],
   "source": [
    "print(pvalue_list)\n",
    "print(rvalue_list)"
   ]
  },
  {
   "cell_type": "code",
   "execution_count": 102,
   "metadata": {},
   "outputs": [
    {
     "data": {
      "image/png": "[encoded data removed]",
      "text/plain": [
       "<matplotlib.figure.Figure at 0x3830f208>"
      ]
     },
     "metadata": {},
     "output_type": "display_data"
    }
   ],
   "source": [
    "plt.figure(figsize = (15, 10))\n",
    "plt.fill_between([k for k in range(len(upper_list))],upper_list,lower_list,label='interval',alpha=0.5)\n",
    "plt.plot(rvalue_list,label='real value',color='orange')\n",
    "plt.plot(pvalue_list,label='predict value',color='green')\n",
    "plt.legend(\n",
    "    loc = 'upper center',\n",
    "    bbox_to_anchor = (0.5, -0.05),\n",
    "    fancybox = True,\n",
    "    shadow = True,\n",
    "    ncol = 5,\n",
    ")\n",
    "plt.title('interval prediction stock market-%s'%stock_name)\n",
    "plt.show()\n",
    "plt.savefig('../../image/Interval/'+stock_name+'+10.png')"
   ]
  },
  {
   "cell_type": "code",
   "execution_count": 106,
   "metadata": {},
   "outputs": [
    {
     "data": {
      "image/png": "[encoded data removed]",
      "text/plain": [
       "<matplotlib.figure.Figure at 0x38f667f0>"
      ]
     },
     "metadata": {},
     "output_type": "display_data"
    }
   ],
   "source": [
    "plt.figure(figsize = (15, 10))\n",
    "plt.plot(inv_test[:10,4],label='real value',color='orange')\n",
    "# plt.plot(inv_yhat[-future_day:,4],label='predict value',color='green')\n",
    "plt.legend(\n",
    "    loc = 'upper center',\n",
    "    bbox_to_anchor = (0.5, -0.05),\n",
    "    fancybox = True,\n",
    "    shadow = True,\n",
    "    ncol = 5,\n",
    ")\n",
    "plt.title('interval prediction stock market-GOOGL')\n",
    "plt.show()"
   ]
  },
  {
   "cell_type": "code",
   "execution_count": null,
   "metadata": {},
   "outputs": [],
   "source": []
  }
 ],
 "metadata": {
  "kernelspec": {
   "display_name": "Python 3",
   "language": "python",
   "name": "python3"
  },
  "language_info": {
   "codemirror_mode": {
    "name": "ipython",
    "version": 3
   },
   "file_extension": ".py",
   "mimetype": "text/x-python",
   "name": "python",
   "nbconvert_exporter": "python",
   "pygments_lexer": "ipython3",
   "version": "3.6.4"
  }
 },
 "nbformat": 4,
 "nbformat_minor": 2
}
