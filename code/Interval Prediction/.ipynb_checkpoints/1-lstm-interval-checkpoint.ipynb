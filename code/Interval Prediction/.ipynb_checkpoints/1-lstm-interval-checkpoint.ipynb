{
 "cells": [
  {
   "cell_type": "code",
   "execution_count": 145,
   "metadata": {},
   "outputs": [],
   "source": [
    "import tensorflow as tf\n",
    "import numpy as np\n",
    "import matplotlib.pyplot as plt\n",
    "import seaborn as sns\n",
    "import pandas as pd\n",
    "from sklearn.preprocessing import MinMaxScaler\n",
    "from datetime import datetime\n",
    "from datetime import timedelta\n",
    "import math\n",
    "sns.set()"
   ]
  },
  {
   "cell_type": "code",
   "execution_count": 146,
   "metadata": {},
   "outputs": [],
   "source": [
    "stock_name='HD'"
   ]
  },
  {
   "cell_type": "code",
   "execution_count": 147,
   "metadata": {},
   "outputs": [
    {
     "data": {
      "text/html": [
       "<div>\n",
       "<style scoped>\n",
       "    .dataframe tbody tr th:only-of-type {\n",
       "        vertical-align: middle;\n",
       "    }\n",
       "\n",
       "    .dataframe tbody tr th {\n",
       "        vertical-align: top;\n",
       "    }\n",
       "\n",
       "    .dataframe thead th {\n",
       "        text-align: right;\n",
       "    }\n",
       "</style>\n",
       "<table border=\"1\" class=\"dataframe\">\n",
       "  <thead>\n",
       "    <tr style=\"text-align: right;\">\n",
       "      <th></th>\n",
       "      <th>Date</th>\n",
       "      <th>Open</th>\n",
       "      <th>High</th>\n",
       "      <th>Low</th>\n",
       "      <th>Close</th>\n",
       "      <th>Adj Close</th>\n",
       "      <th>Volume</th>\n",
       "    </tr>\n",
       "  </thead>\n",
       "  <tbody>\n",
       "    <tr>\n",
       "      <th>0</th>\n",
       "      <td>2014-05-27</td>\n",
       "      <td>79.379997</td>\n",
       "      <td>80.000000</td>\n",
       "      <td>79.300003</td>\n",
       "      <td>79.690002</td>\n",
       "      <td>71.448708</td>\n",
       "      <td>4760600</td>\n",
       "    </tr>\n",
       "    <tr>\n",
       "      <th>1</th>\n",
       "      <td>2014-05-28</td>\n",
       "      <td>79.750000</td>\n",
       "      <td>80.000000</td>\n",
       "      <td>79.269997</td>\n",
       "      <td>79.680000</td>\n",
       "      <td>71.439735</td>\n",
       "      <td>4002200</td>\n",
       "    </tr>\n",
       "    <tr>\n",
       "      <th>2</th>\n",
       "      <td>2014-05-29</td>\n",
       "      <td>79.879997</td>\n",
       "      <td>79.989998</td>\n",
       "      <td>79.440002</td>\n",
       "      <td>79.900002</td>\n",
       "      <td>71.636978</td>\n",
       "      <td>4408900</td>\n",
       "    </tr>\n",
       "    <tr>\n",
       "      <th>3</th>\n",
       "      <td>2014-05-30</td>\n",
       "      <td>79.769997</td>\n",
       "      <td>80.269997</td>\n",
       "      <td>79.580002</td>\n",
       "      <td>80.230003</td>\n",
       "      <td>71.932869</td>\n",
       "      <td>4528000</td>\n",
       "    </tr>\n",
       "    <tr>\n",
       "      <th>4</th>\n",
       "      <td>2014-06-02</td>\n",
       "      <td>80.250000</td>\n",
       "      <td>81.059998</td>\n",
       "      <td>80.169998</td>\n",
       "      <td>80.839996</td>\n",
       "      <td>72.479774</td>\n",
       "      <td>6817700</td>\n",
       "    </tr>\n",
       "  </tbody>\n",
       "</table>\n",
       "</div>"
      ],
      "text/plain": [
       "         Date       Open       High        Low      Close  Adj Close   Volume\n",
       "0  2014-05-27  79.379997  80.000000  79.300003  79.690002  71.448708  4760600\n",
       "1  2014-05-28  79.750000  80.000000  79.269997  79.680000  71.439735  4002200\n",
       "2  2014-05-29  79.879997  79.989998  79.440002  79.900002  71.636978  4408900\n",
       "3  2014-05-30  79.769997  80.269997  79.580002  80.230003  71.932869  4528000\n",
       "4  2014-06-02  80.250000  81.059998  80.169998  80.839996  72.479774  6817700"
      ]
     },
     "execution_count": 147,
     "metadata": {},
     "output_type": "execute_result"
    }
   ],
   "source": [
    "df = pd.read_csv('../../dataset/5year/'+stock_name+'-5year.csv')\n",
    "date_ori = pd.to_datetime(df.iloc[:, 0]).tolist()\n",
    "df.head()"
   ]
  },
  {
   "cell_type": "code",
   "execution_count": 148,
   "metadata": {},
   "outputs": [
    {
     "data": {
      "text/html": [
       "<div>\n",
       "<style scoped>\n",
       "    .dataframe tbody tr th:only-of-type {\n",
       "        vertical-align: middle;\n",
       "    }\n",
       "\n",
       "    .dataframe tbody tr th {\n",
       "        vertical-align: top;\n",
       "    }\n",
       "\n",
       "    .dataframe thead th {\n",
       "        text-align: right;\n",
       "    }\n",
       "</style>\n",
       "<table border=\"1\" class=\"dataframe\">\n",
       "  <thead>\n",
       "    <tr style=\"text-align: right;\">\n",
       "      <th></th>\n",
       "      <th>0</th>\n",
       "      <th>1</th>\n",
       "      <th>2</th>\n",
       "      <th>3</th>\n",
       "      <th>4</th>\n",
       "      <th>5</th>\n",
       "    </tr>\n",
       "  </thead>\n",
       "  <tbody>\n",
       "    <tr>\n",
       "      <th>0</th>\n",
       "      <td>0.010436</td>\n",
       "      <td>0.010304</td>\n",
       "      <td>0.011589</td>\n",
       "      <td>0.011931</td>\n",
       "      <td>0.007419</td>\n",
       "      <td>0.168615</td>\n",
       "    </tr>\n",
       "    <tr>\n",
       "      <th>1</th>\n",
       "      <td>0.013155</td>\n",
       "      <td>0.010304</td>\n",
       "      <td>0.011364</td>\n",
       "      <td>0.011857</td>\n",
       "      <td>0.007355</td>\n",
       "      <td>0.129189</td>\n",
       "    </tr>\n",
       "    <tr>\n",
       "      <th>2</th>\n",
       "      <td>0.014110</td>\n",
       "      <td>0.010231</td>\n",
       "      <td>0.012636</td>\n",
       "      <td>0.013478</td>\n",
       "      <td>0.008758</td>\n",
       "      <td>0.150332</td>\n",
       "    </tr>\n",
       "    <tr>\n",
       "      <th>3</th>\n",
       "      <td>0.013302</td>\n",
       "      <td>0.012277</td>\n",
       "      <td>0.013682</td>\n",
       "      <td>0.015908</td>\n",
       "      <td>0.010863</td>\n",
       "      <td>0.156523</td>\n",
       "    </tr>\n",
       "    <tr>\n",
       "      <th>4</th>\n",
       "      <td>0.016830</td>\n",
       "      <td>0.018050</td>\n",
       "      <td>0.018093</td>\n",
       "      <td>0.020401</td>\n",
       "      <td>0.014752</td>\n",
       "      <td>0.275555</td>\n",
       "    </tr>\n",
       "  </tbody>\n",
       "</table>\n",
       "</div>"
      ],
      "text/plain": [
       "          0         1         2         3         4         5\n",
       "0  0.010436  0.010304  0.011589  0.011931  0.007419  0.168615\n",
       "1  0.013155  0.010304  0.011364  0.011857  0.007355  0.129189\n",
       "2  0.014110  0.010231  0.012636  0.013478  0.008758  0.150332\n",
       "3  0.013302  0.012277  0.013682  0.015908  0.010863  0.156523\n",
       "4  0.016830  0.018050  0.018093  0.020401  0.014752  0.275555"
      ]
     },
     "execution_count": 148,
     "metadata": {},
     "output_type": "execute_result"
    }
   ],
   "source": [
    "minmax = MinMaxScaler().fit(df.iloc[:, 1:].astype('float32'))\n",
    "df_log = minmax.transform(df.iloc[:, 1:].astype('float32'))\n",
    "df_log = pd.DataFrame(df_log)\n",
    "df_log.head()"
   ]
  },
  {
   "cell_type": "code",
   "execution_count": 149,
   "metadata": {},
   "outputs": [],
   "source": [
    "train_percentage=0.67\n",
    "df_train=df_log[:math.ceil(train_percentage*df_log.shape[0])]\n",
    "df_test=df_log[math.ceil(train_percentage*df_log.shape[0]):]"
   ]
  },
  {
   "cell_type": "code",
   "execution_count": 150,
   "metadata": {},
   "outputs": [],
   "source": [
    "class Model:\n",
    "    def __init__(\n",
    "        self,\n",
    "        learning_rate,\n",
    "        num_layers,\n",
    "        size,\n",
    "        size_layer,\n",
    "        output_size,\n",
    "        forget_bias = 0.1,\n",
    "    ):\n",
    "        def lstm_cell(size_layer):\n",
    "            return tf.nn.rnn_cell.LSTMCell(size_layer, state_is_tuple = False)\n",
    "\n",
    "        rnn_cells = tf.nn.rnn_cell.MultiRNNCell(\n",
    "            [lstm_cell(size_layer) for _ in range(num_layers)],\n",
    "            state_is_tuple = False,\n",
    "        )\n",
    "        self.X = tf.placeholder(tf.float32, (None, None, size))\n",
    "        self.Y = tf.placeholder(tf.float32, (None, output_size))\n",
    "        drop = tf.contrib.rnn.DropoutWrapper(\n",
    "            rnn_cells, output_keep_prob = forget_bias\n",
    "        )\n",
    "        self.hidden_layer = tf.placeholder(\n",
    "            tf.float32, (None, num_layers * 2 * size_layer)\n",
    "        )\n",
    "        self.outputs, self.last_state = tf.nn.dynamic_rnn(\n",
    "            drop, self.X, initial_state = self.hidden_layer, dtype = tf.float32\n",
    "        )\n",
    "        self.logits = tf.layers.dense(self.outputs[-1], output_size)\n",
    "        self.cost = tf.reduce_mean(tf.square(self.Y - self.logits))\n",
    "        self.optimizer = tf.train.AdamOptimizer(learning_rate).minimize(\n",
    "            self.cost\n",
    "        )\n",
    "        self.residue=self.Y - self.logits"
   ]
  },
  {
   "cell_type": "code",
   "execution_count": 151,
   "metadata": {},
   "outputs": [],
   "source": [
    "num_layers = 1\n",
    "size_layer = 6\n",
    "timestamp = 5\n",
    "epoch = 50\n",
    "dropout_rate = 0.3\n",
    "future_day = 60"
   ]
  },
  {
   "cell_type": "code",
   "execution_count": 152,
   "metadata": {},
   "outputs": [
    {
     "name": "stdout",
     "output_type": "stream",
     "text": [
      "WARNING:tensorflow:<tensorflow.python.ops.rnn_cell_impl.LSTMCell object at 0x0000000016C3F208>: Using a concatenated state is slower and will soon be deprecated.  Use state_is_tuple=True.\n"
     ]
    },
    {
     "name": "stderr",
     "output_type": "stream",
     "text": [
      "E:\\Anacoda3 REAL\\lib\\site-packages\\tensorflow\\python\\client\\session.py:1645: UserWarning: An interactive session is already active. This can cause out-of-memory errors in some cases. You must explicitly call `InteractiveSession.close()` to release resources held by the other session(s).\n",
      "  warnings.warn('An interactive session is already active. This can '\n"
     ]
    }
   ],
   "source": [
    "tf.reset_default_graph()\n",
    "modelnn = Model(\n",
    "    0.01, num_layers, df_train.shape[1], size_layer, df_train.shape[1], dropout_rate\n",
    ")\n",
    "sess = tf.InteractiveSession()\n",
    "sess.run(tf.global_variables_initializer())"
   ]
  },
  {
   "cell_type": "code",
   "execution_count": 153,
   "metadata": {
    "scrolled": true
   },
   "outputs": [
    {
     "name": "stdout",
     "output_type": "stream",
     "text": [
      "epoch: 50 avg loss: 0.009849487352593791\n"
     ]
    }
   ],
   "source": [
    "for i in range(epoch):\n",
    "    init_value = np.zeros((1, num_layers * 2 * size_layer))\n",
    "    total_loss = 0\n",
    "    for k in range(0, df_train.shape[0] - 1, timestamp):\n",
    "        #print(k)\n",
    "        index = min(k + timestamp, df_train.shape[0] -1)\n",
    "        batch_x = np.expand_dims(\n",
    "            df_train.iloc[k : index, :].values, axis = 0\n",
    "        )\n",
    "        batch_y = df_train.iloc[k + 1 : index + 1, :].values\n",
    "        last_state, _, loss,residue = sess.run(\n",
    "            [modelnn.last_state, modelnn.optimizer, modelnn.cost,modelnn.residue],\n",
    "            feed_dict = {\n",
    "                modelnn.X: batch_x,\n",
    "                modelnn.Y: batch_y,\n",
    "                modelnn.hidden_layer: init_value,\n",
    "            },\n",
    "        )\n",
    "        if i==epoch-1:\n",
    "            if k==0:\n",
    "                last_residue=residue\n",
    "            else:\n",
    "                last_residue=np.vstack((last_residue,residue))\n",
    "        init_value = last_state\n",
    "        total_loss += loss\n",
    "    total_loss /= df_train.shape[0] // timestamp\n",
    "    if (i + 1) % 50 == 0:\n",
    "        print('epoch:', i + 1, 'avg loss:', total_loss)\n",
    "    \n",
    "        "
   ]
  },
  {
   "cell_type": "code",
   "execution_count": 154,
   "metadata": {},
   "outputs": [
    {
     "data": {
      "text/plain": [
       "(843, 6)"
      ]
     },
     "execution_count": 154,
     "metadata": {},
     "output_type": "execute_result"
    }
   ],
   "source": [
    "last_residue.shape"
   ]
  },
  {
   "cell_type": "code",
   "execution_count": 155,
   "metadata": {},
   "outputs": [
    {
     "name": "stdout",
     "output_type": "stream",
     "text": [
      "13.212528\n"
     ]
    }
   ],
   "source": [
    "inv_residue=minmax.inverse_transform(last_residue)\n",
    "#print(inv_residue)\n",
    "print(np.std(inv_residue[:,4]))\n",
    "resid_std=np.std(inv_residue[:,4])"
   ]
  },
  {
   "cell_type": "code",
   "execution_count": 156,
   "metadata": {},
   "outputs": [
    {
     "name": "stderr",
     "output_type": "stream",
     "text": [
      "E:\\Anacoda3 REAL\\lib\\site-packages\\ipykernel_launcher.py:27: SettingWithCopyWarning: \n",
      "A value is trying to be set on a copy of a slice from a DataFrame\n",
      "\n",
      "See the caveats in the documentation: http://pandas.pydata.org/pandas-docs/stable/indexing.html#indexing-view-versus-copy\n"
     ]
    }
   ],
   "source": [
    "output_predict = np.zeros((df_train.shape[0] + future_day, df_train.shape[1]))\n",
    "output_predict[0] = df_train.iloc[0]\n",
    "upper_b = (df_train.shape[0] // timestamp) * timestamp\n",
    "init_value = np.zeros((1, num_layers * 2 * size_layer))\n",
    "for k in range(0, (df_train.shape[0] // timestamp) * timestamp, timestamp):\n",
    "    out_logits, last_state = sess.run(\n",
    "        [modelnn.logits, modelnn.last_state],\n",
    "        feed_dict = {\n",
    "            modelnn.X: np.expand_dims(\n",
    "                df_train.iloc[k : k + timestamp], axis = 0\n",
    "            ),\n",
    "            modelnn.hidden_layer: init_value,\n",
    "        },\n",
    "    )\n",
    "    init_value = last_state\n",
    "    output_predict[k + 1 : k + timestamp + 1] = out_logits\n",
    "\n",
    "out_logits, last_state = sess.run(\n",
    "    [modelnn.logits, modelnn.last_state],\n",
    "    feed_dict = {\n",
    "        modelnn.X: np.expand_dims(df_train.iloc[upper_b:], axis = 0),\n",
    "        modelnn.hidden_layer: init_value,\n",
    "    },\n",
    ")\n",
    "init_value = last_state\n",
    "output_predict[upper_b + 1 : df_train.shape[0] + 1] = out_logits\n",
    "df_train.loc[df_train.shape[0]] = out_logits[-1]\n",
    "date_ori.append(date_ori[-1] + timedelta(days = 1))"
   ]
  },
  {
   "cell_type": "code",
   "execution_count": 157,
   "metadata": {},
   "outputs": [],
   "source": [
    "test_step60=df_train.copy()\n",
    "for i in range(future_day - 1):\n",
    "    out_logits, last_state = sess.run(\n",
    "        [modelnn.logits, modelnn.last_state],\n",
    "        feed_dict = {\n",
    "            modelnn.X: np.expand_dims(test_step60.iloc[-timestamp:], axis = 0),\n",
    "            modelnn.hidden_layer: init_value,\n",
    "        },\n",
    "    )\n",
    "    init_value = last_state\n",
    "    output_predict[test_step60.shape[0]] = out_logits[-1]\n",
    "    test_step60.loc[test_step60.shape[0]] = out_logits[-1]\n",
    "    date_ori.append(date_ori[-1] + timedelta(days = 1))"
   ]
  },
  {
   "cell_type": "code",
   "execution_count": 158,
   "metadata": {},
   "outputs": [
    {
     "data": {
      "text/plain": [
       "(904, 6)"
      ]
     },
     "execution_count": 158,
     "metadata": {},
     "output_type": "execute_result"
    }
   ],
   "source": [
    "output_predict.shape"
   ]
  },
  {
   "cell_type": "code",
   "execution_count": 159,
   "metadata": {
    "scrolled": true
   },
   "outputs": [
    {
     "name": "stdout",
     "output_type": "stream",
     "text": [
      "0 165.50570945533582 135.11689452918836 157.96307373046878\n",
      "1 172.04642105022842 129.0701468372247 158.40733337402344\n",
      "2 177.24763794245382 124.61266650855896 159.5179901123047\n",
      "3 183.76180143051715 122.98417157822223 159.63388061523438\n",
      "4 184.52442460782993 116.57296867730395 160.43547058105466\n",
      "5 188.90216378732904 114.46507333039452 160.17471313476562\n",
      "6 190.97072474987198 110.56947781731816 160.03952026367188\n",
      "7 189.17761584914425 103.22506742313689 159.50831604003903\n",
      "8 196.7277228680141 105.56127808957172 159.59524536132812\n",
      "9 197.10796310232365 101.01009254237613 158.95782470703125\n"
     ]
    }
   ],
   "source": [
    "inv_yhat=minmax.inverse_transform(output_predict)\n",
    "inv_test=minmax.inverse_transform(df_test)\n",
    "upper_list,lower_list,rvalue_list,pvalue_list=[],[],[],[]\n",
    "for i in range(10):\n",
    "    pvalue=inv_yhat[df_train.shape[0]+i,4]\n",
    "    upper_bound=pvalue+1.15*resid_std*math.sqrt(i+1)\n",
    "    lower_bound=pvalue-1.15*resid_std*math.sqrt(i+1)\n",
    "    rvalue=inv_test[i,4]\n",
    "    print(i,upper_bound,lower_bound,rvalue)\n",
    "    upper_list.append(upper_bound)\n",
    "    lower_list.append(lower_bound)\n",
    "    rvalue_list.append(rvalue)\n",
    "    pvalue_list.append(pvalue)"
   ]
  },
  {
   "cell_type": "code",
   "execution_count": 160,
   "metadata": {},
   "outputs": [
    {
     "name": "stdout",
     "output_type": "stream",
     "text": [
      "[150.3113019922621, 150.55828394372656, 150.9301522255064, 153.3729865043697, 150.54869664256694, 151.68361855886178, 150.77010128359507, 146.20134163614057, 151.1445004787929, 149.0590278223499]\n",
      "[157.96307373046878, 158.40733337402344, 159.5179901123047, 159.63388061523438, 160.43547058105466, 160.17471313476562, 160.03952026367188, 159.50831604003903, 159.59524536132812, 158.95782470703125]\n"
     ]
    }
   ],
   "source": [
    "print(pvalue_list)\n",
    "print(rvalue_list)"
   ]
  },
  {
   "cell_type": "code",
   "execution_count": 161,
   "metadata": {},
   "outputs": [
    {
     "data": {
      "image/png": "[encoded data removed]",
      "text/plain": [
       "<matplotlib.figure.Figure at 0x3c1cc0f0>"
      ]
     },
     "metadata": {},
     "output_type": "display_data"
    }
   ],
   "source": [
    "plt.figure(figsize = (15, 10))\n",
    "plt.fill_between([k for k in range(len(upper_list))],upper_list,lower_list,label='interval',alpha=0.5)\n",
    "plt.plot(rvalue_list,label='real value',color='orange')\n",
    "plt.plot(pvalue_list,label='predict value',color='green')\n",
    "plt.legend(\n",
    "    loc = 'upper center',\n",
    "    bbox_to_anchor = (0.5, -0.05),\n",
    "    fancybox = True,\n",
    "    shadow = True,\n",
    "    ncol = 5,\n",
    ")\n",
    "plt.title('interval prediction stock market-%s'%stock_name)\n",
    "plt.savefig('../../image/Interval/'+stock_name+'+10.png')\n",
    "plt.show()"
   ]
  },
  {
   "cell_type": "code",
   "execution_count": 162,
   "metadata": {},
   "outputs": [
    {
     "data": {
      "image/png": "[encoded data removed]",
      "text/plain": [
       "<matplotlib.figure.Figure at 0x3aa232b0>"
      ]
     },
     "metadata": {},
     "output_type": "display_data"
    }
   ],
   "source": [
    "plt.figure(figsize = (15, 10))\n",
    "plt.plot(inv_test[:10,4],label='real value',color='orange')\n",
    "# plt.plot(inv_yhat[-future_day:,4],label='predict value',color='green')\n",
    "plt.legend(\n",
    "    loc = 'upper center',\n",
    "    bbox_to_anchor = (0.5, -0.05),\n",
    "    fancybox = True,\n",
    "    shadow = True,\n",
    "    ncol = 5,\n",
    ")\n",
    "plt.title('interval prediction stock market-GOOGL')\n",
    "plt.show()"
   ]
  },
  {
   "cell_type": "code",
   "execution_count": null,
   "metadata": {},
   "outputs": [],
   "source": []
  }
 ],
 "metadata": {
  "kernelspec": {
   "display_name": "Python 3",
   "language": "python",
   "name": "python3"
  },
  "language_info": {
   "codemirror_mode": {
    "name": "ipython",
    "version": 3
   },
   "file_extension": ".py",
   "mimetype": "text/x-python",
   "name": "python",
   "nbconvert_exporter": "python",
   "pygments_lexer": "ipython3",
   "version": "3.6.8"
  }
 },
 "nbformat": 4,
 "nbformat_minor": 2
}
