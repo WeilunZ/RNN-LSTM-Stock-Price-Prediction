{
 "cells": [
  {
   "cell_type": "code",
   "execution_count": 1,
   "metadata": {},
   "outputs": [],
   "source": [
    "#读取数据\n",
    "import pandas as pd\n",
    "import numpy as np\n",
    "import glob,os"
   ]
  },
  {
   "cell_type": "code",
   "execution_count": 2,
   "metadata": {},
   "outputs": [
    {
     "name": "stdout",
     "output_type": "stream",
     "text": [
      "['../dataset/emd\\\\emd_AAPL_Adj Close.csv', '../dataset/emd\\\\emd_AAPL_Close.csv', '../dataset/emd\\\\emd_AAPL_High.csv', '../dataset/emd\\\\emd_AAPL_Low.csv', '../dataset/emd\\\\emd_AAPL_Open.csv', '../dataset/emd\\\\emd_AAPL_Volume.csv']\n"
     ]
    }
   ],
   "source": [
    "path='../dataset/emd'\n",
    "file=glob.glob(os.path.join(path, \"emd_AAPL_*.csv\"))\n",
    "print(file)"
   ]
  },
  {
   "cell_type": "code",
   "execution_count": 3,
   "metadata": {},
   "outputs": [
    {
     "name": "stdout",
     "output_type": "stream",
     "text": [
      "9\n",
      "10\n",
      "11\n",
      "11\n",
      "10\n",
      "10\n"
     ]
    }
   ],
   "source": [
    "for f in file:\n",
    "    df=pd.read_csv(f)\n",
    "    print(df.shape[1])"
   ]
  }
 ],
 "metadata": {
  "kernelspec": {
   "display_name": "Python 3",
   "language": "python",
   "name": "python3"
  },
  "language_info": {
   "codemirror_mode": {
    "name": "ipython",
    "version": 3
   },
   "file_extension": ".py",
   "mimetype": "text/x-python",
   "name": "python",
   "nbconvert_exporter": "python",
   "pygments_lexer": "ipython3",
   "version": "3.6.5"
  }
 },
 "nbformat": 4,
 "nbformat_minor": 2
}
