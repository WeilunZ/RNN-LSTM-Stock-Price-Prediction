{
 "cells": [
  {
   "cell_type": "code",
   "execution_count": 25,
   "metadata": {},
   "outputs": [],
   "source": [
    "import numpy as np\n",
    "import pandas as pd\n",
    "from datetime import datetime\n",
    "import matplotlib.pylab as plt\n",
    "import warnings\n",
    "\n",
    "warnings.filterwarnings('ignore')"
   ]
  },
  {
   "cell_type": "code",
   "execution_count": 2,
   "metadata": {},
   "outputs": [
    {
     "data": {
      "text/html": [
       "<div>\n",
       "<style scoped>\n",
       "    .dataframe tbody tr th:only-of-type {\n",
       "        vertical-align: middle;\n",
       "    }\n",
       "\n",
       "    .dataframe tbody tr th {\n",
       "        vertical-align: top;\n",
       "    }\n",
       "\n",
       "    .dataframe thead th {\n",
       "        text-align: right;\n",
       "    }\n",
       "</style>\n",
       "<table border=\"1\" class=\"dataframe\">\n",
       "  <thead>\n",
       "    <tr style=\"text-align: right;\">\n",
       "      <th></th>\n",
       "      <th>center</th>\n",
       "      <th>radius</th>\n",
       "    </tr>\n",
       "    <tr>\n",
       "      <th>Date</th>\n",
       "      <th></th>\n",
       "      <th></th>\n",
       "    </tr>\n",
       "  </thead>\n",
       "  <tbody>\n",
       "    <tr>\n",
       "      <th>2018-02-02</th>\n",
       "      <td>1121.235046</td>\n",
       "      <td>10.065002</td>\n",
       "    </tr>\n",
       "    <tr>\n",
       "      <th>2018-02-05</th>\n",
       "      <td>1085.864990</td>\n",
       "      <td>29.125000</td>\n",
       "    </tr>\n",
       "    <tr>\n",
       "      <th>2018-02-06</th>\n",
       "      <td>1058.695007</td>\n",
       "      <td>28.684998</td>\n",
       "    </tr>\n",
       "    <tr>\n",
       "      <th>2018-02-07</th>\n",
       "      <td>1070.575012</td>\n",
       "      <td>15.955017</td>\n",
       "    </tr>\n",
       "    <tr>\n",
       "      <th>2018-02-08</th>\n",
       "      <td>1034.315033</td>\n",
       "      <td>29.615021</td>\n",
       "    </tr>\n",
       "  </tbody>\n",
       "</table>\n",
       "</div>"
      ],
      "text/plain": [
       "                 center     radius\n",
       "Date                              \n",
       "2018-02-02  1121.235046  10.065002\n",
       "2018-02-05  1085.864990  29.125000\n",
       "2018-02-06  1058.695007  28.684998\n",
       "2018-02-07  1070.575012  15.955017\n",
       "2018-02-08  1034.315033  29.615021"
      ]
     },
     "execution_count": 2,
     "metadata": {},
     "output_type": "execute_result"
    }
   ],
   "source": [
    "# 读取数据，pd.read_csv默认生成DataFrame对象，需将其转换成Series对象\n",
    "df = pd.read_csv('../dataset/GOOGL-year.csv',header=0)\n",
    "df.index = pd.to_datetime(df['Date'])  # 将字符串索引转换成时间索引\n",
    "df_new=pd.DataFrame(columns=['center','radius'])\n",
    "df_new['center']=pd.Series((df['High'].values+df['Low'].values)/2)\n",
    "df_new['radius']=pd.Series((df['High'].values-df['Low'].values)/2)\n",
    "df_new.index=df.index\n",
    "df_new.head()"
   ]
  },
  {
   "cell_type": "code",
   "execution_count": 3,
   "metadata": {},
   "outputs": [],
   "source": [
    "# 移动平均图\n",
    "def draw_trend(timeseries, size):\n",
    "    f = plt.figure(facecolor='white')\n",
    "    # 对size个数据进行移动平均\n",
    "    rol_mean = timeseries.rolling(window=size).mean()\n",
    "    # 对size个数据移动平均的方差\n",
    "    rol_std = timeseries.rolling(window=size).std()\n",
    " \n",
    "    timeseries.plot(color='blue', label='Original')\n",
    "    rol_mean.plot(color='red', label='Rolling Mean')\n",
    "    rol_std.plot(color='black', label='Rolling standard deviation')\n",
    "    plt.legend(loc='best')\n",
    "    plt.title('Rolling Mean & Standard Deviation')\n",
    "    plt.show()\n",
    " \n",
    "def draw_ts(timeseries):\n",
    "    f = plt.figure(facecolor='white')\n",
    "    timeseries.plot(color='blue')\n",
    "    plt.show()\n",
    " \n",
    "# Dickey-Fuller test:\n",
    "def teststationarity(ts):\n",
    "    dftest = adfuller(ts)\n",
    "    # 对上述函数求得的值进行语义描述\n",
    "    dfoutput = pd.Series(dftest[0:4], index=['Test Statistic','p-value','#Lags Used','Number of Observations Used'])\n",
    "    for key,value in dftest[4].items():\n",
    "        dfoutput['Critical Value (%s)'%key] = value\n",
    "    return dfoutput\n"
   ]
  },
  {
   "cell_type": "code",
   "execution_count": 19,
   "metadata": {},
   "outputs": [
    {
     "data": {
      "text/html": [
       "<div>\n",
       "<style scoped>\n",
       "    .dataframe tbody tr th:only-of-type {\n",
       "        vertical-align: middle;\n",
       "    }\n",
       "\n",
       "    .dataframe tbody tr th {\n",
       "        vertical-align: top;\n",
       "    }\n",
       "\n",
       "    .dataframe thead th {\n",
       "        text-align: right;\n",
       "    }\n",
       "</style>\n",
       "<table border=\"1\" class=\"dataframe\">\n",
       "  <thead>\n",
       "    <tr style=\"text-align: right;\">\n",
       "      <th></th>\n",
       "      <th>center</th>\n",
       "      <th>radius</th>\n",
       "    </tr>\n",
       "    <tr>\n",
       "      <th>Date</th>\n",
       "      <th></th>\n",
       "      <th></th>\n",
       "    </tr>\n",
       "  </thead>\n",
       "  <tbody>\n",
       "    <tr>\n",
       "      <th>2018-02-05</th>\n",
       "      <td>-35.370056</td>\n",
       "      <td>19.059998</td>\n",
       "    </tr>\n",
       "    <tr>\n",
       "      <th>2018-02-06</th>\n",
       "      <td>-27.169983</td>\n",
       "      <td>-0.440002</td>\n",
       "    </tr>\n",
       "    <tr>\n",
       "      <th>2018-02-07</th>\n",
       "      <td>11.880005</td>\n",
       "      <td>-12.729981</td>\n",
       "    </tr>\n",
       "    <tr>\n",
       "      <th>2018-02-08</th>\n",
       "      <td>-36.259979</td>\n",
       "      <td>13.660004</td>\n",
       "    </tr>\n",
       "    <tr>\n",
       "      <th>2018-02-09</th>\n",
       "      <td>-9.955047</td>\n",
       "      <td>-2.255036</td>\n",
       "    </tr>\n",
       "  </tbody>\n",
       "</table>\n",
       "</div>"
      ],
      "text/plain": [
       "               center     radius\n",
       "Date                            \n",
       "2018-02-05 -35.370056  19.059998\n",
       "2018-02-06 -27.169983  -0.440002\n",
       "2018-02-07  11.880005 -12.729981\n",
       "2018-02-08 -36.259979  13.660004\n",
       "2018-02-09  -9.955047  -2.255036"
      ]
     },
     "execution_count": 19,
     "metadata": {},
     "output_type": "execute_result"
    }
   ],
   "source": [
    "diff_1=df_new.diff(1)\n",
    "diff_1.dropna(inplace=True)\n",
    "diff_1.head()\n",
    "#draw_trend(diff_1,12)"
   ]
  },
  {
   "cell_type": "code",
   "execution_count": 20,
   "metadata": {},
   "outputs": [
    {
     "data": {
      "image/png": "[encoded data removed]",
      "text/plain": [
       "<Figure size 432x288 with 2 Axes>"
      ]
     },
     "metadata": {},
     "output_type": "display_data"
    }
   ],
   "source": [
    "from statsmodels.graphics.tsaplots import plot_acf, plot_pacf\n",
    "def draw_acf_pacf(ts,lags):\n",
    "    f = plt.figure(facecolor='white')\n",
    "    ax1 = f.add_subplot(211)\n",
    "    plot_acf(ts,ax=ax1,lags=lags)\n",
    "    ax2 = f.add_subplot(212)\n",
    "    plot_pacf(ts,ax=ax2,lags=lags)\n",
    "    plt.subplots_adjust(hspace=0.5)\n",
    "    plt.show()\n",
    "draw_acf_pacf(diff_1['center'],30)\n",
    "# draw_acf_pacf(diff_1['radius'],30)"
   ]
  },
  {
   "cell_type": "code",
   "execution_count": 23,
   "metadata": {},
   "outputs": [
    {
     "name": "stdout",
     "output_type": "stream",
     "text": [
      "(250, 2)\n",
      "               center     radius\n",
      "Date                            \n",
      "2018-02-05 -35.370056  19.059998\n",
      "2018-02-06 -27.169983  -0.440002\n",
      "2018-02-07  11.880005 -12.729981\n",
      "2018-02-08 -36.259979  13.660004\n",
      "2018-02-09  -9.955047  -2.255036\n"
     ]
    }
   ],
   "source": [
    "print(diff_1.shape)\n",
    "print(diff_1.head())"
   ]
  },
  {
   "cell_type": "code",
   "execution_count": 27,
   "metadata": {},
   "outputs": [
    {
     "name": "stdout",
     "output_type": "stream",
     "text": [
      "arma_mod21: 2085.967098379836 2103.5744029691473 2093.053523222896\n",
      "arma_mod20: 2084.2400581247302 2098.325901796179 2089.909197999178\n",
      "arma_mod01: 2082.318515727431 2092.882898481018 2086.570370633267\n"
     ]
    }
   ],
   "source": [
    "from statsmodels.tsa.arima_model import ARIMA\n",
    "import statsmodels.api as sm\n",
    "arma_mod21 = sm.tsa.ARMA(diff_1['center'],(2,1)).fit()\n",
    "print(\"arma_mod21:\",arma_mod21.aic,arma_mod70.bic,arma_mod21.hqic)\n",
    "arma_mod20 = sm.tsa.ARMA(diff_1['center'],(2,0)).fit()\n",
    "print(\"arma_mod20:\",arma_mod20.aic,arma_mod20.bic,arma_mod20.hqic)\n",
    "arma_mod01 = sm.tsa.ARMA(diff_1['center'],(0,1)).fit()\n",
    "print(\"arma_mod01:\",arma_mod01.aic,arma_mod01.bic,arma_mod01.hqic)\n",
    "# model = ARIMA(df_new['center'], order=(15,1,0)) \n",
    "# model_arima = model.fit( disp=0)"
   ]
  },
  {
   "cell_type": "code",
   "execution_count": 29,
   "metadata": {},
   "outputs": [
    {
     "data": {
      "image/png": "[encoded data removed]",
      "text/plain": [
       "<Figure size 864x576 with 2 Axes>"
      ]
     },
     "metadata": {
      "needs_background": "light"
     },
     "output_type": "display_data"
    }
   ],
   "source": [
    "resid = arma_mod01.resid#残差\n",
    "fig = plt.figure(figsize=(12,8))\n",
    "ax1 = fig.add_subplot(211)\n",
    "fig = sm.graphics.tsa.plot_acf(resid.values.squeeze(), lags=30, ax=ax1)\n",
    "ax2 = fig.add_subplot(212)\n",
    "fig = sm.graphics.tsa.plot_pacf(resid, lags=30, ax=ax2)"
   ]
  },
  {
   "cell_type": "code",
   "execution_count": 30,
   "metadata": {},
   "outputs": [
    {
     "name": "stdout",
     "output_type": "stream",
     "text": [
      "1.977525286466384\n"
     ]
    }
   ],
   "source": [
    "print(sm.stats.durbin_watson(resid))"
   ]
  },
  {
   "cell_type": "code",
   "execution_count": 31,
   "metadata": {},
   "outputs": [],
   "source": [
    "predict_sunspots=arma_mod01.predict()"
   ]
  },
  {
   "cell_type": "code",
   "execution_count": 35,
   "metadata": {},
   "outputs": [
    {
     "name": "stdout",
     "output_type": "stream",
     "text": [
      "Date\n",
      "2018-02-05   -0.006154\n",
      "2018-02-06   -5.951748\n",
      "2018-02-07   -3.677261\n",
      "2018-02-08    2.687791\n",
      "2018-02-09   -6.750643\n",
      "2018-02-12   -0.561053\n",
      "2018-02-13    5.488636\n",
      "2018-02-14   -1.209426\n",
      "2018-02-15    1.686461\n",
      "2018-02-16    2.824013\n",
      "2018-02-20    2.840907\n",
      "2018-02-21    0.058621\n",
      "2018-02-22    3.223655\n",
      "2018-02-23   -1.698633\n",
      "2018-02-26    0.879358\n",
      "2018-02-27    2.967244\n",
      "2018-02-28   -1.602272\n",
      "2018-03-01   -2.359976\n",
      "2018-03-02   -4.107631\n",
      "2018-03-05   -2.893274\n",
      "2018-03-06    3.650855\n",
      "2018-03-07    1.671687\n",
      "2018-03-08    0.222134\n",
      "2018-03-09    3.637782\n",
      "2018-03-12    3.403049\n",
      "2018-03-13    3.047126\n",
      "2018-03-14   -2.680234\n",
      "2018-03-15   -0.447687\n",
      "2018-03-16   -0.270631\n",
      "2018-03-19   -0.824261\n",
      "                ...   \n",
      "2018-12-19    1.515569\n",
      "2018-12-20    0.161723\n",
      "2018-12-21   -3.483661\n",
      "2018-12-24   -2.558001\n",
      "2018-12-26   -2.081055\n",
      "2018-12-27    4.797701\n",
      "2018-12-28    0.828912\n",
      "2018-12-31    3.823639\n",
      "2019-01-02   -1.551435\n",
      "2019-01-03   -0.599867\n",
      "2019-01-04    0.319373\n",
      "2019-01-07    2.382801\n",
      "2019-01-08    2.047128\n",
      "2019-01-09    1.055860\n",
      "2019-01-10    0.184187\n",
      "2019-01-11   -1.901324\n",
      "2019-01-14   -0.948828\n",
      "2019-01-15   -1.815963\n",
      "2019-01-16    3.400218\n",
      "2019-01-17    3.531627\n",
      "2019-01-18   -1.172723\n",
      "2019-01-22    3.081903\n",
      "2019-01-23   -4.645649\n",
      "2019-01-24   -0.010378\n",
      "2019-01-25   -0.220805\n",
      "2019-01-28    3.247808\n",
      "2019-01-29   -2.921922\n",
      "2019-01-30   -0.992009\n",
      "2019-01-31    2.365729\n",
      "2019-02-01    4.498678\n",
      "Length: 250, dtype: float64\n",
      "               center     radius\n",
      "Date                            \n",
      "2018-02-05 -35.370056  19.059998\n",
      "2018-02-06 -27.169983  -0.440002\n",
      "2018-02-07  11.880005 -12.729981\n",
      "2018-02-08 -36.259979  13.660004\n",
      "2018-02-09  -9.955047  -2.255036\n",
      "2018-02-12  31.169983 -17.320007\n",
      "2018-02-13  -1.459961  -2.890015\n",
      "2018-02-14   8.565002   5.684998\n",
      "2018-02-15  18.029968   0.600037\n",
      "2018-02-16  19.265076  -5.054993\n",
      "2018-02-20   3.214966   4.765015\n",
      "2018-02-21  18.709961   1.199951\n",
      "2018-02-22  -6.549988  -4.190002\n",
      "2018-02-23   3.414978   0.125061\n",
      "2018-02-26  18.049988  -2.850037\n",
      "2018-02-27  -6.249939   6.299988\n",
      "2018-02-28 -15.195007  -1.404968\n",
      "2018-03-01 -26.044983   9.664978\n",
      "2018-03-02 -20.780029  -3.599976\n",
      "2018-03-05  18.225037  -3.934998\n",
      "2018-03-06  13.339966  -8.890015\n",
      "2018-03-07   2.989990   7.579956\n",
      "2018-03-08  21.264954  -6.024964\n",
      "2018-03-09  23.325073   6.234985\n",
      "2018-03-12  21.034973  -3.874939\n",
      "2018-03-13 -12.395019  12.234985\n",
      "2018-03-14  -5.229980 -13.010010\n",
      "2018-03-15  -1.974976   4.714966\n",
      "2018-03-16  -4.994995  -0.694946\n",
      "2018-03-19 -39.940002   2.499939\n",
      "...               ...        ...\n",
      "2018-12-19   2.485017  13.535004\n",
      "2018-12-20 -19.920014  -8.350006\n",
      "2018-12-21 -18.219940   8.450043\n",
      "2018-12-24 -14.540039 -11.010010\n",
      "2018-12-26  25.660004  10.669953\n",
      "2018-12-27   9.619995  -4.729981\n",
      "2018-12-28  22.945007 -12.054993\n",
      "2018-12-31  -5.099976   3.859985\n",
      "2019-01-02  -4.979981   2.780029\n",
      "2019-01-03   1.279968   4.190003\n",
      "2019-01-04  14.114990  -0.375000\n",
      "2019-01-07  14.239990 -11.540039\n",
      "2019-01-08   8.179993   2.470032\n",
      "2019-01-09   2.155029  -3.864990\n",
      "2019-01-10 -10.759949  -1.070007\n",
      "2019-01-11  -7.345032   0.904968\n",
      "2019-01-14 -11.400024  -3.520019\n",
      "2019-01-15  17.854981  11.965088\n",
      "2019-01-16  23.830017  -9.740052\n",
      "2019-01-17  -3.205017   1.544983\n",
      "2019-01-18  16.660034   0.640015\n",
      "2019-01-22 -23.710022   4.679993\n",
      "2019-01-23  -4.670044  -1.349976\n",
      "2019-01-24  -1.249939  -3.700012\n",
      "2019-01-25  18.570007  -3.210022\n",
      "2019-01-28 -13.590027   3.600037\n",
      "2019-01-29  -8.614990  -0.025025\n",
      "2019-01-30  12.705017   2.085022\n",
      "2019-01-31  28.380005  -0.229981\n",
      "2019-02-01   7.864990  -1.135010\n",
      "\n",
      "[250 rows x 2 columns]\n"
     ]
    }
   ],
   "source": [
    "print(predict_sunspots)\n",
    "print(diff_1)"
   ]
  },
  {
   "cell_type": "code",
   "execution_count": 33,
   "metadata": {},
   "outputs": [
    {
     "data": {
      "image/png": "[encoded data removed]",
      "text/plain": [
       "<Figure size 432x288 with 1 Axes>"
      ]
     },
     "metadata": {
      "needs_background": "light"
     },
     "output_type": "display_data"
    }
   ],
   "source": [
    "#predict_sunspots=model_arima.predict()\n",
    "diff_center_recover=pd.Series(df_new['center'].iloc[0]).append(pd.Series(predict_sunspots)).cumsum()\n",
    "plt.plot(df_new['center'].values,color='navy')\n",
    "plt.plot(diff_center_recover.values,color='brown')\n",
    "plt.show()"
   ]
  },
  {
   "cell_type": "code",
   "execution_count": null,
   "metadata": {},
   "outputs": [],
   "source": [
    "# 多步预测部分\n",
    "df_all=pd.read_csv('../dataset/GOOGL-year-now.csv',header=0)\n",
    "df_all.index=pd.to_datetime(df_all['Date'])\n",
    "df_new_all=pd.DataFrame(columns=['center','radius'])\n",
    "df_new_all['center']=pd.Series((df_all['High'].values+df_all['Low'].values)/2)\n",
    "df_new_all['radius']=pd.Series((df_all['High'].values-df_all['Low'].values)/2)\n",
    "df_new_all.index=df_all.index\n",
    "df_new_all.head()\n",
    "test=df_new_all['2019-02-02':]\n",
    "test.head()"
   ]
  },
  {
   "cell_type": "code",
   "execution_count": null,
   "metadata": {},
   "outputs": [],
   "source": [
    "print(type(ct_test.iloc[0]))\n",
    "print(type(diff_1))"
   ]
  },
  {
   "cell_type": "code",
   "execution_count": null,
   "metadata": {},
   "outputs": [],
   "source": [
    "predictions=list()\n",
    "train=diff_1['center'].values\n",
    "for i in range(60):\n",
    "    model = ARIMA(train, order=(1,1,1)) \n",
    "    model_arima = model.fit(disp=0)\n",
    "    predict_ts = model_arima.forecast()\n",
    "    yhat=predict_ts[0]\n",
    "    predictions.append(yhat)\n",
    "    train = np.append(train,yhat) #直接向p_arr里添加p_\n",
    "diff_center_recover=pd.Series(test['center'].iloc[0]).append(pd.Series(predictions)).cumsum()"
   ]
  },
  {
   "cell_type": "code",
   "execution_count": null,
   "metadata": {},
   "outputs": [],
   "source": [
    "#print(predictions)\n",
    "print(predictions)\n"
   ]
  },
  {
   "cell_type": "code",
   "execution_count": null,
   "metadata": {},
   "outputs": [],
   "source": [
    "plt.plot(diff_center_recover,color='blue', label='Predict')\n",
    "plt.plot(test['center'].values,color='orange',label='Origin')\n",
    "#df_new['center'].plot(color='red', label='Original')\n",
    "plt.legend(loc='best')\n",
    "plt.show()"
   ]
  }
 ],
 "metadata": {
  "kernelspec": {
   "display_name": "Python 3",
   "language": "python",
   "name": "python3"
  },
  "language_info": {
   "codemirror_mode": {
    "name": "ipython",
    "version": 3
   },
   "file_extension": ".py",
   "mimetype": "text/x-python",
   "name": "python",
   "nbconvert_exporter": "python",
   "pygments_lexer": "ipython3",
   "version": "3.6.4"
  }
 },
 "nbformat": 4,
 "nbformat_minor": 2
}
