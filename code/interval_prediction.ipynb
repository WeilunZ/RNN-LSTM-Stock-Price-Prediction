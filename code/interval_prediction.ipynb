{
 "cells": [
  {
   "cell_type": "code",
   "execution_count": null,
   "metadata": {},
   "outputs": [],
   "source": [
    "import tensorflow as tf\n",
    "import numpy as np\n",
    "import matplotlib.pyplot as plt\n",
    "import seaborn as sns\n",
    "import pandas as pd\n",
    "from sklearn.preprocessing import MinMaxScaler\n",
    "from datetime import datetime\n",
    "from datetime import timedelta\n",
    "sns.set()"
   ]
  },
  {
   "cell_type": "code",
   "execution_count": null,
   "metadata": {},
   "outputs": [],
   "source": [
    "df = pd.read_csv('../dataset/GOOGL-year.csv')\n",
    "date_ori = pd.to_datetime(df.iloc[:, 0]).tolist()\n",
    "df.head()"
   ]
  },
  {
   "cell_type": "code",
   "execution_count": null,
   "metadata": {},
   "outputs": [],
   "source": [
    "def create_dataset(dataset, look_back=1, forecast_horizon=1, batch_size=1):\n",
    "    batch_x, batch_y, batch_z = [], [], []\n",
    "    for i in range(0, len(dataset)-look_back-forecast_horizon-batch_size+1, batch_size):\n",
    "        for n in range(batch_size):            \n",
    "            x = dataset[['log_counts','next_is_holiday','next_bad_weather']].values[i+n:(i + n + look_back), :]\n",
    "            offset = x[0, 0]\n",
    "            y = dataset['log_counts'].values[i + n + look_back:i + n + look_back + forecast_horizon]\n",
    "            batch_x.append(np.array(x).reshape(look_back, -1))\n",
    "            batch_y.append(np.array(y))\n",
    "            batch_z.append(np.array(offset))\n",
    "        batch_x = np.array(batch_x)\n",
    "        batch_y = np.array(batch_y)\n",
    "        batch_z = np.array(batch_z)\n",
    "        batch_x[:, :, 0] -= batch_z.reshape(-1, 1)\n",
    "        batch_y -= batch_z.reshape(-1, 1)\n",
    "        yield batch_x, batch_y, batch_z\n",
    "        batch_x, batch_y, batch_z = [], [], []"
   ]
  }
 ],
 "metadata": {
  "kernelspec": {
   "display_name": "Python 3",
   "language": "python",
   "name": "python3"
  },
  "language_info": {
   "codemirror_mode": {
    "name": "ipython",
    "version": 3
   },
   "file_extension": ".py",
   "mimetype": "text/x-python",
   "name": "python",
   "nbconvert_exporter": "python",
   "pygments_lexer": "ipython3",
   "version": "3.6.8"
  }
 },
 "nbformat": 4,
 "nbformat_minor": 2
}
